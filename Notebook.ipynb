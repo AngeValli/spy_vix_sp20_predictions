{
 "cells": [
  {
   "cell_type": "markdown",
   "metadata": {},
   "source": [
    "<a href=\"https://www.kaggle.com/code/angevalli/s-p500-forecasting/notebook\" target=\"_blank\"><img align=\"left\" alt=\"Kaggle\" title=\"Open in Kaggle\" src=\"https://kaggle.com/static/images/open-in-kaggle.svg\"></a>"
   ]
  },
  {
   "cell_type": "markdown",
   "metadata": {
    "id": "yGpQqvshRSR1"
   },
   "source": [
    "# Imports"
   ]
  },
  {
   "cell_type": "code",
   "execution_count": 33,
   "metadata": {
    "executionInfo": {
     "elapsed": 3294,
     "status": "ok",
     "timestamp": 1664526751457,
     "user": {
      "displayName": "Ange VALLI",
      "userId": "07174695979630093145"
     },
     "user_tz": -120
    },
    "id": "0HWyr7ctywnF"
   },
   "outputs": [],
   "source": [
    "from typing import Union, List, Set, Any, Optional\n",
    "\n",
    "import datetime as dt\n",
    "import pandas as pd\n",
    "import numpy as np\n",
    "import matplotlib.pyplot as plt\n",
    "\n",
    "import constants as c\n",
    "import tensorflow as tf\n",
    "import tensorflow.keras as keras\n",
    "import seaborn as sns\n",
    "from sklearn.preprocessing import MinMaxScaler;"
   ]
  },
  {
   "cell_type": "markdown",
   "metadata": {
    "id": "4-D1dHCDRzXk"
   },
   "source": [
    "# First approach : Forecast SPY returns with price prediction"
   ]
  },
  {
   "cell_type": "markdown",
   "metadata": {
    "id": "9Z-XVLO8RcQ4"
   },
   "source": [
    "## Loadings"
   ]
  },
  {
   "cell_type": "markdown",
   "metadata": {
    "id": "M9nS9w5HY8AT"
   },
   "source": [
    "Callback useful in the training of LSTM neural network model"
   ]
  },
  {
   "cell_type": "code",
   "execution_count": 34,
   "metadata": {
    "executionInfo": {
     "elapsed": 5,
     "status": "ok",
     "timestamp": 1664526751458,
     "user": {
      "displayName": "Ange VALLI",
      "userId": "07174695979630093145"
     },
     "user_tz": -120
    },
    "id": "WaUNEWo6SAPk"
   },
   "outputs": [],
   "source": [
    "# Define Reset States Callback\n",
    "class ResetStatesCallback(keras.callbacks.Callback):\n",
    "    def on_epoch_begin(self, epoch, logs):\n",
    "        self.model.reset_states()"
   ]
  },
  {
   "cell_type": "code",
   "execution_count": 35,
   "metadata": {
    "executionInfo": {
     "elapsed": 772,
     "status": "ok",
     "timestamp": 1664526752226,
     "user": {
      "displayName": "Ange VALLI",
      "userId": "07174695979630093145"
     },
     "user_tz": -120
    },
    "id": "WyQA3ybMRegS"
   },
   "outputs": [],
   "source": [
    "# Load data from .csv\n",
    "data: pd.DataFrame = pd.read_csv(\"data.csv\")\n",
    "\n",
    "# Set style of charts\n",
    "sns.set(style=\"darkgrid\")\n",
    "plt.rcParams['figure.figsize'] = [10, 10]\n",
    "\n",
    "# Deactivate Settings Warning\n",
    "pd.options.mode.chained_assignment = None"
   ]
  },
  {
   "cell_type": "markdown",
   "metadata": {
    "id": "PCqjfzNUy-iG"
   },
   "source": [
    "## Data pre-processing"
   ]
  },
  {
   "cell_type": "code",
   "execution_count": 36,
   "metadata": {
    "executionInfo": {
     "elapsed": 4,
     "status": "ok",
     "timestamp": 1664526752227,
     "user": {
      "displayName": "Ange VALLI",
      "userId": "07174695979630093145"
     },
     "user_tz": -120
    },
    "id": "3xcHSruPO_ZK"
   },
   "outputs": [],
   "source": [
    "window_size: int = 30"
   ]
  },
  {
   "cell_type": "code",
   "execution_count": 37,
   "metadata": {
    "executionInfo": {
     "elapsed": 3,
     "status": "ok",
     "timestamp": 1664526752227,
     "user": {
      "displayName": "Ange VALLI",
      "userId": "07174695979630093145"
     },
     "user_tz": -120
    },
    "id": "SdRzlzXzw4vC"
   },
   "outputs": [],
   "source": [
    "data.columns = data.columns.str.upper()\n",
    "data[c.DATE] = data[c.DATE].apply(\n",
    "    lambda date: dt.datetime.strptime(date,\"%Y-%m-%d\").date())\n",
    "\n",
    "# Create SPY returns variable\n",
    "data[c.RETURNS] = data[c.SPY] - data[c.SPY].shift(1)"
   ]
  },
  {
   "cell_type": "markdown",
   "metadata": {
    "id": "JOnktqB_SU47"
   },
   "source": [
    "## Useful functions"
   ]
  },
  {
   "cell_type": "markdown",
   "metadata": {
    "id": "iNpL0bteYVVu"
   },
   "source": [
    "Those functions are used for model training, computing and displaying metrics and compare models between each other."
   ]
  },
  {
   "cell_type": "code",
   "execution_count": 38,
   "metadata": {
    "executionInfo": {
     "elapsed": 869,
     "status": "ok",
     "timestamp": 1664526753093,
     "user": {
      "displayName": "Ange VALLI",
      "userId": "07174695979630093145"
     },
     "user_tz": -120
    },
    "id": "kJmFU14jFbMX"
   },
   "outputs": [],
   "source": [
    "def plot_series(\n",
    "    time: np.array, series: np.array, format: str = \"-\",\n",
    "    start: int = 0, end: int = None, label: str = None):\n",
    "    \"\"\"\n",
    "    Function used to plot SPY prices and predictions\n",
    "    Parameters:\n",
    "    time: Array of dates\n",
    "    series: Array of values of the time-series\n",
    "    format: Format of line in the plot\n",
    "    start: Start index to plot the values\n",
    "    end: End index to plot the values\n",
    "    label: String label to display in legend\n",
    "    \"\"\"\n",
    "    plt.plot(time[start:end], series[start:end], format, label=label)\n",
    "    plt.xlabel(\"Time\")\n",
    "    plt.ylabel(\"Value\")\n",
    "    if label:\n",
    "        plt.legend(fontsize=14)\n",
    "    plt.grid(True)\n",
    "\n",
    "\n",
    "def seq2seq_window_dataset(series: np.array, window_size: int,\n",
    "                           batch_size: int = 128,\n",
    "                           shuffle_buffer: int = 1000) -> tf.data.Dataset:\n",
    "    \"\"\"\n",
    "    Function used to create input sequences batches of training set\n",
    "    and validation set for CNN model\n",
    "    Parameters:\n",
    "    series: input dataset\n",
    "    window_size: length of batches to create\n",
    "    shuffle_buffer: shuffles inputs of the dataset to prevent overfitting\n",
    "    Outputs:\n",
    "    sequences batches of series set dedicated to learning\n",
    "    \"\"\"\n",
    "    series = tf.expand_dims(series, axis=-1)\n",
    "    ds: tf.data.Dataset = tf.data.Dataset.from_tensor_slices(series)\n",
    "    ds = ds.window(window_size + 1, shift=1, drop_remainder=True)\n",
    "    ds = ds.flat_map(lambda w: w.batch(window_size + 1))\n",
    "    ds = ds.shuffle(shuffle_buffer)\n",
    "    ds = ds.map(lambda w: (w[:-1], w[1:]))\n",
    "    return ds.batch(batch_size).prefetch(1)\n",
    "\n",
    "def sequential_window_dataset(\n",
    "    series: np.array, window_size: int) -> tf.data.Dataset:\n",
    "    \"\"\"\n",
    "    Function used to create input sequences batches of training set\n",
    "    and validation set for LSTM model\n",
    "    Parameters:\n",
    "    series: input dataset\n",
    "    window_size: length of batches to create\n",
    "    Outputs:\n",
    "    sequences batches of series set dedicated to learning\n",
    "    \"\"\"\n",
    "    ds: tf.data.Dataset = tf.data.Dataset.from_tensor_slices(series)\n",
    "    ds = ds.window(window_size + 1, shift=window_size, drop_remainder=True)\n",
    "    ds = ds.flat_map(lambda window: window.batch(window_size + 1))\n",
    "    ds = ds.map(lambda window: (window[:-1], window[1:]))\n",
    "    return ds.batch(1).prefetch(1)\n",
    "\n",
    "\n",
    "def model_forecast(\n",
    "    model: keras.models, series: np.array, window_size: int) -> np.array:\n",
    "    \"\"\"\n",
    "    Function to output predictions of learning based on TensorFlow Datasets\n",
    "    Parameters:\n",
    "    model: Keras model which has been trained\n",
    "    series: Referential dataset normalized to trained data\n",
    "    window_size: length of batches used\n",
    "    \"\"\"\n",
    "    ds: tf.data.Dataset = tf.data.Dataset.from_tensor_slices(series)\n",
    "    ds = ds.window(window_size, shift=1, drop_remainder=True)\n",
    "    ds = ds.flat_map(lambda w: w.batch(window_size))\n",
    "    ds = ds.batch(32).prefetch(1)\n",
    "    forecast: np.array = model.predict(ds)\n",
    "    return forecast\n",
    "\n",
    "def create_train_test_valid_split(\n",
    "    data: pd.DataFrame,\n",
    "    train_split_date: dt.date=dt.date(2014, 12, 31),\n",
    "    test_split_date: dt.date=dt.date(2019, 1, 2)\n",
    "    ) -> Union[Union[pd.Series, pd.Series, pd.Series],\n",
    "               Union[pd.DataFrame, pd.DataFrame, pd.DataFrame]]:\n",
    "    \"\"\"\n",
    "    Function to split original dataset in train, test and validation for learning\n",
    "    data: Original input dataset\n",
    "    train_split_date: Date for end of training dataset/begin of validation dataset\n",
    "    test_split_date: Date for begin of test dataset/end of validation dataset\n",
    "    Outputs:\n",
    "    Tuple of 3 pandas DataFrame for training, test and validation set respectively\n",
    "    \"\"\"\n",
    "    mask_date_train: pd.Series = data[c.DATE] <= train_split_date\n",
    "    mask_date_test: pd.Series = data[c.DATE] >= test_split_date\n",
    "    mask_date_valid: pd.Series = ~mask_date_train & ~mask_date_test\n",
    "    if {c.SP20VOL}.issubset(data.columns):\n",
    "      results: Union[pd.Series, pd.Series, pd.Series]\n",
    "      results = (\n",
    "          data.loc[mask_date_train, c.SPY],\n",
    "          data.loc[mask_date_test, c.SPY],\n",
    "          data.loc[mask_date_valid, c.SPY]\n",
    "      )\n",
    "    else :\n",
    "      results: Union[pd.DataFrame, pd.DataFrame, pd.DataFrame]\n",
    "      results = (\n",
    "          data[mask_date_train].drop(columns=c.DATE),\n",
    "          data[mask_date_test].drop(columns=c.DATE),\n",
    "          data[mask_date_valid].drop(columns=c.DATE)\n",
    "      )\n",
    "    return results\n",
    "\n",
    "def normalization(x_train_values_: np.array,\n",
    "                  x_test_values_: np.array,\n",
    "                  x_valid_values_: np.array,\n",
    "                  origin_: np.array) -> Union[MinMaxScaler, np.array]:\n",
    "    \"\"\"\n",
    "    Function to normalize datasets before learning\n",
    "    Parameters:\n",
    "    x_train_: Training dataset\n",
    "    x_test_: Test dataset\n",
    "    x_valid_: Validation dataset\n",
    "    Output:\n",
    "    x_train_scaler: MinMaxScaler based on training dataset\n",
    "    spy_normalized_to_traindata: input features normalized thanks to MinMaxScaler\n",
    "    normalized_x_train: Normalized training dataset\n",
    "    normalized_x_test: Normalized test dataset\n",
    "    normalized_x_valid: Normalized validation dataset\n",
    "    \"\"\"\n",
    "\n",
    "    #  Create Scaler Object\n",
    "    x_train_scaler: MinMaxScaler = MinMaxScaler(feature_range=(0, 1))\n",
    "\n",
    "    # Fit x_train values\n",
    "    normalized_x_train: np.array = x_train_scaler.fit_transform(x_train_values_)\n",
    "\n",
    "    # Fit x_valid values\n",
    "    normalized_x_valid: np.array = x_train_scaler.transform(x_valid_values_)\n",
    "\n",
    "    # Fit x_test values\n",
    "    normalized_x_test: np.array = x_train_scaler.transform(x_test_values_)\n",
    "\n",
    "    # All values normalized to training data\n",
    "    spy_normalized_to_traindata: np.array = x_train_scaler.transform(\n",
    "        origin_)\n",
    "    results: Union[MinMaxScaler, np.array] = (\n",
    "        x_train_scaler,\n",
    "        normalized_x_train,\n",
    "        normalized_x_valid,\n",
    "        normalized_x_test,\n",
    "        spy_normalized_to_traindata\n",
    "    )\n",
    "    return results\n",
    "\n",
    "def model_training(type_: str = \"cnn\",\n",
    "                    window_size_: int = 30,\n",
    "                    seed_: int = 42,\n",
    "                    batch_size_: int = 128,\n",
    "                    nb_neurons_: int = 128,\n",
    "                    learning_rate_: float = 1e-4,\n",
    "                    patience_: int = 10,\n",
    "                    nb_epochs_: int = 100,\n",
    "                    nb_variables_: int = 1):\n",
    "    \"\"\"\n",
    "    Model training general function\n",
    "    Parameters:\n",
    "    type_: type of training\n",
    "    window_size_: Window size\n",
    "    seed_: Seed for random\n",
    "    batch_size_: Size of batch for epochs\n",
    "    nb_neurons_: Number of neurons in learning\n",
    "    learning_rate_: Learning rate of stochastic gradient descent optimizer\n",
    "    patience_: Number of epochs with no improvement after which\n",
    "    training will be stopped\n",
    "    nb_epochs: Number of epochs to perform\n",
    "    nb_variables_: Number of output variables\n",
    "    \"\"\"\n",
    "    # Clear any background data that may have stored\n",
    "    keras.backend.clear_session()\n",
    "    tf.random.set_seed(seed_)\n",
    "    np.random.seed(seed_)\n",
    "\n",
    "    # Create input sequence batches\n",
    "    window_size: int = window_size_\n",
    "    if type_ == \"cnn\" :\n",
    "      train_set: tf.data.Dataset = seq2seq_window_dataset(\n",
    "          normalized_x_train, window_size, batch_size=batch_size_)\n",
    "      valid_set: tf.data.Dataset = seq2seq_window_dataset(\n",
    "          normalized_x_valid, window_size, batch_size=batch_size_)\n",
    "\n",
    "      # Create model object and set up wavenet architecture\n",
    "      model: keras.models.Sequential = keras.models.Sequential()\n",
    "      model.add(keras.layers.InputLayer(input_shape=[None, nb_variables_]))\n",
    "      for dilation_rate in (1, 2, 4, 8, 16, 32):\n",
    "          model.add(\n",
    "            keras.layers.Conv1D(filters=nb_neurons_,\n",
    "                                kernel_size=2,\n",
    "                                strides=1,\n",
    "                                dilation_rate=dilation_rate,\n",
    "                                padding=\"causal\",\n",
    "                                activation=\"relu\")\n",
    "          )\n",
    "\n",
    "      # Add final dense layer\n",
    "      model.add(keras.layers.Conv1D(filters=nb_variables_, kernel_size=1))\n",
    "\n",
    "    elif type_ == \"lstm\" :\n",
    "      train_set: tf.data.Dataset = sequential_window_dataset(\n",
    "      normalized_x_train, window_size)\n",
    "      valid_set: tf.data.Dataset = sequential_window_dataset(\n",
    "        normalized_x_valid, window_size)\n",
    "\n",
    "      model: keras.models.Sequential = keras.models.Sequential([\n",
    "      keras.layers.LSTM(100, return_sequences=True, stateful=True,\n",
    "                            batch_input_shape=[1, None, nb_variables_]),\n",
    "      keras.layers.LSTM(100, return_sequences=True, stateful=True),\n",
    "      keras.layers.Dense(nb_variables_),\n",
    "      ])\n",
    "\n",
    "    else:\n",
    "      raise Exception\n",
    "\n",
    "    # Set Nadam as optimizer\n",
    "    optimizer: keras.optimizers.Nadam = keras.optimizers.Nadam(\n",
    "        learning_rate=learning_rate_)\n",
    "\n",
    "    # Compile model\n",
    "    model.compile(loss=keras.losses.Huber(),\n",
    "                  optimizer=optimizer,\n",
    "                  metrics=[\"mae\"])\n",
    "\n",
    "    if type_ == \"lstm\":\n",
    "      # reset states\n",
    "      reset_states = ResetStatesCallback()\n",
    "\n",
    "    # save best model \n",
    "    model_checkpoint: keras.callbacks.ModelCheckpoint = \\\n",
    "    keras.callbacks.ModelCheckpoint(\n",
    "        f\"my_checkpoint_{type_}_{nb_variables_}.h5\", save_best_only=True)\n",
    "\n",
    "    # set early stopping\n",
    "    early_stopping: keras.callbacks.EarlyStopping = \\\n",
    "    keras.callbacks.EarlyStopping(patience=patience_)\n",
    "\n",
    "    if type_ == \"cnn\":\n",
    "      # sav history\n",
    "      history: keras.callbacks.History = model.fit(train_set, epochs=nb_epochs_,\n",
    "                          validation_data=valid_set,\n",
    "                          callbacks=[early_stopping, model_checkpoint])\n",
    "    elif type_ == \"lstm\":\n",
    "      # fit model\n",
    "      model.fit(train_set, epochs=nb_epochs_,\n",
    "                validation_data=valid_set,\n",
    "                callbacks=[early_stopping, model_checkpoint, reset_states])\n",
    "\n",
    "def format_cnn_forecast(model_: keras.models,\n",
    "                        spy_normalized_to_traindata_: np.array,\n",
    "                        x_train_scaler_: MinMaxScaler,\n",
    "                        window_size_: int,\n",
    "                        x_test_: pd.DataFrame,\n",
    "                        nb_variables_: int = 1\n",
    "                        ) -> Union[pd.DataFrame, np.array]:\n",
    "    \"\"\"\n",
    "    Function to reformat prediction from training datasets after learning\n",
    "    Parameters:\n",
    "    model_: Trained model\n",
    "    spy_normalized_to_traindata_: SPY price normalized \n",
    "    x_train_scaler_: Scaler to fit to train dataset\n",
    "    window_size_: Window size\n",
    "    x_test_: Test dataset\n",
    "    nb_variables_: number of variables corresponding to training dataset choice\n",
    "    Output:\n",
    "    cnn_forecast: Unscaled forecast of CNN model\n",
    "    \"\"\"\n",
    "    if nb_variables_ == 1 :\n",
    "      # Use best model to get forecasts\n",
    "      cnn_forecast: np.array = model_forecast(\n",
    "          model, spy_normalized_to_traindata_[:,  np.newaxis], window_size_)\n",
    "      cnn_forecast = cnn_forecast[x_test_.index.min() - window_size_:-1,-1,0]\n",
    "\n",
    "      # Scale back to normal\n",
    "      cnn_unscaled_forecast: np.array = x_train_scaler_.inverse_transform(\n",
    "          cnn_forecast.reshape(-1,nb_variables_)).flatten()\n",
    "    else :\n",
    "      # Use best model to get forecasts\n",
    "      cnn_forecast: np.array = model_forecast(\n",
    "          model, spy_normalized_to_traindata, window_size_)\n",
    "      cnn_forecast = cnn_forecast[\n",
    "          x_test_.index.min() - window_size_:-1,-1,0:nb_variables_]\n",
    "\n",
    "      # Scale back to normal\n",
    "      cnn_unscaled_forecast: pd.DataFrame = pd.DataFrame(\n",
    "          x_train_scaler.inverse_transform(\n",
    "              cnn_forecast.reshape(len(x_test_), -1)\n",
    "              )\n",
    "          )\n",
    "    return cnn_unscaled_forecast\n",
    "\n",
    "def format_rnn_forecast(model_: keras.models,\n",
    "                        normalized_x_test_: np.array,\n",
    "                        x_train_scaler_: MinMaxScaler,\n",
    "                        window_size_: int,\n",
    "                        x_test_: Optional[np.array] = [],\n",
    "                        nb_variables_: int = 1\n",
    "                        ) -> Union[pd.DataFrame, np.array]:\n",
    "    \"\"\"\n",
    "    Function to reformat prediction from training datasets after learning\n",
    "    Parameters:\n",
    "    model_: Trained model\n",
    "    normalized_x_test_: Test dataset normalized\n",
    "    x_train_scaler_: Scaler to fit to train dataset\n",
    "    window_size_: Window size\n",
    "    x_test_: Test dataset\n",
    "    nb_variables_: number of variables corresponding to training dataset choice\n",
    "    Output:\n",
    "    cnn_forecast: Unscaled forecast of LSTM model\n",
    "    \"\"\"\n",
    "    if nb_variables_ == 1 :\n",
    "      # Use best model to get forecasts\n",
    "      rnn_forecast: np.array = model_.predict(normalized_x_test_[np.newaxis,:])\n",
    "      rnn_forecast = rnn_forecast.flatten()\n",
    "      # Scale back to normal\n",
    "      rnn_unscaled_forecast: np.array = x_train_scaler_.inverse_transform(\n",
    "          rnn_forecast.reshape(-1,1)).flatten()\n",
    "    else :\n",
    "      # Use best model to get forecasts\n",
    "      rnn_forecast: np.array = model_.predict(normalized_x_test_[np.newaxis, :])\n",
    "      rnn_forecast = rnn_forecast.flatten()\n",
    "      # Scale back to normal\n",
    "      rnn_unscaled_forecast: pd.DataFrame = pd.DataFrame(\n",
    "          x_train_scaler_.inverse_transform(\n",
    "              rnn_forecast.reshape(len(x_test_), -1)\n",
    "              )\n",
    "          )\n",
    "    return rnn_unscaled_forecast"
   ]
  },
  {
   "cell_type": "markdown",
   "metadata": {
    "id": "Q4IszLSWakTP"
   },
   "source": [
    "Let's start with learning on SPY price only."
   ]
  },
  {
   "cell_type": "markdown",
   "metadata": {
    "id": "s4VeWyXFTKRJ"
   },
   "source": [
    "# Learning on SPY price only"
   ]
  },
  {
   "cell_type": "markdown",
   "metadata": {
    "id": "ysq4Z0lhapCE"
   },
   "source": [
    "We create train, test and valid datasets based on masks so the original dataset is splitted as follows : first part is training dataset, we validate with a second part and then the model predict the test set, corresponding to last available data from the original dataset. If the model trained on historical data of several years ago is capable to predict what happened in the last day, then we can have a good level of confidence on it's ability to predict day-to-day return.\n",
    "\n",
    "We perform prediction on price directly first so we can look at the visualisation of the evolution of the price through days and compare prediction with testing set. This gives an insight on the performance of the learning.\n",
    "\n",
    "Finally, we compute the mean absolute error on SPY price and on SPY returns to compare models between each other, based on the intuition given by previous data visualisation of the price."
   ]
  },
  {
   "cell_type": "markdown",
   "metadata": {
    "id": "C-I9O-5oaUcb"
   },
   "source": [
    "## Datasets"
   ]
  },
  {
   "cell_type": "markdown",
   "metadata": {
    "id": "boOfFXcMEJw3"
   },
   "source": [
    "### Create train, test and valid datasets"
   ]
  },
  {
   "cell_type": "code",
   "execution_count": 39,
   "metadata": {
    "executionInfo": {
     "elapsed": 6,
     "status": "ok",
     "timestamp": 1664526753093,
     "user": {
      "displayName": "Ange VALLI",
      "userId": "07174695979630093145"
     },
     "user_tz": -120
    },
    "id": "3OLkrOg5Qmck"
   },
   "outputs": [],
   "source": [
    "# Save target series\n",
    "series: pd.Series = data[c.SPY]\n",
    "\n",
    "# Create train, test and valid datasets\n",
    "x_train: pd.Series\n",
    "x_test: pd.Series\n",
    "x_valid: pd.Series\n",
    "x_train, x_test, x_valid = create_train_test_valid_split(data=data)"
   ]
  },
  {
   "cell_type": "markdown",
   "metadata": {
    "id": "_ovg36IyEI9W"
   },
   "source": [
    "### Visualize the datasets"
   ]
  },
  {
   "cell_type": "markdown",
   "metadata": {
    "id": "ATO5t24jcAmF"
   },
   "source": [
    "Here are the proportions of the original dataset for the split. We can that the most recent datapoints in the time serie is more unstable and had a slightly different shape than on previous parts, corresponding to training and validation datasets. \n",
    "\n",
    "We may expect difficulties of the model to predict the dropdown of the price which happen after day 3600. "
   ]
  },
  {
   "cell_type": "code",
   "execution_count": 40,
   "metadata": {
    "colab": {
     "base_uri": "https://localhost:8080/",
     "height": 611
    },
    "executionInfo": {
     "elapsed": 7,
     "status": "ok",
     "timestamp": 1664526753094,
     "user": {
      "displayName": "Ange VALLI",
      "userId": "07174695979630093145"
     },
     "user_tz": -120
    },
    "id": "Q_2W3DwGTMT-",
    "outputId": "4ef9433e-bd6f-4e35-b8a3-594ec8764149"
   },
   "outputs": [
    {
     "data": {
      "text/plain": [
       "<matplotlib.legend.Legend at 0x7fcdb1fa0ac0>"
      ]
     },
     "execution_count": 40,
     "metadata": {},
     "output_type": "execute_result"
    },
    {
     "data": {
      "image/png": "[encoded data removed]",
      "text/plain": [
       "<Figure size 1000x1000 with 1 Axes>"
      ]
     },
     "metadata": {},
     "output_type": "display_data"
    }
   ],
   "source": [
    "plt.plot(x_train, label=\"Train\")\n",
    "plt.plot(x_valid, label=\"Validate\")\n",
    "plt.plot(x_test, label=\"Test\")\n",
    "plt.legend()"
   ]
  },
  {
   "cell_type": "markdown",
   "metadata": {
    "id": "0k_M8nkeem4Q"
   },
   "source": [
    "### Normalisation"
   ]
  },
  {
   "cell_type": "markdown",
   "metadata": {
    "id": "sdZmXGMVcjzT"
   },
   "source": [
    "We normalize the data before the learning. The scalability is made with respect to the training dataset, so the values of valid and test datatests are on the same scale, which take away a bias. Here, as the price is increasing through time and we want to focus on predicting returns, normalisation is required."
   ]
  },
  {
   "cell_type": "code",
   "execution_count": 41,
   "metadata": {
    "executionInfo": {
     "elapsed": 4,
     "status": "ok",
     "timestamp": 1664526753094,
     "user": {
      "displayName": "Ange VALLI",
      "userId": "07174695979630093145"
     },
     "user_tz": -120
    },
    "id": "aUHpuqaXTdcw"
   },
   "outputs": [],
   "source": [
    "x_train_scaler: MinMaxScaler\n",
    "normalized_x_train: np.array\n",
    "normalized_x_valid: np.array\n",
    "normalized_x_test: np.array\n",
    "spy_normalized_to_traindata: np.array\n",
    "\n",
    "(\n",
    "    x_train_scaler, normalized_x_train, normalized_x_valid, normalized_x_test,\n",
    "    spy_normalized_to_traindata\n",
    " ) = normalization(x_train_values_=x_train.values.reshape(-1, 1),\n",
    "                   x_test_values_=x_test.values.reshape(-1, 1),\n",
    "                   x_valid_values_=x_valid.values.reshape(-1, 1),\n",
    "                   origin_=series.values.reshape(-1, 1))"
   ]
  },
  {
   "cell_type": "markdown",
   "metadata": {
    "id": "UGWtlJHTimUK"
   },
   "source": [
    "## CNN Model"
   ]
  },
  {
   "cell_type": "markdown",
   "metadata": {
    "id": "X11ciILtl6h3"
   },
   "source": [
    "CNN Models are more commonly used for Computer Vision purposes as the convolutional layers are responsible to capture the principal components of each part of an image and abstract them to carry enough information to be able to generalise. It is also widely used for generation of audio time-series, as it was the preliminary motivation of the design of WaveNet architecture. Since then, it has been transposed to time-series forecasting was we want to perform in this exercise."
   ]
  },
  {
   "cell_type": "markdown",
   "metadata": {
    "id": "jqg1TXpylcej"
   },
   "source": [
    "In the litterature, learning rate for training a CNN with WaveNet architecture is at the scale of $10^{-4}$ and we choose a window size of $30$."
   ]
  },
  {
   "cell_type": "code",
   "execution_count": 42,
   "metadata": {
    "colab": {
     "base_uri": "https://localhost:8080/",
     "height": 0
    },
    "executionInfo": {
     "elapsed": 45826,
     "status": "ok",
     "timestamp": 1664526798916,
     "user": {
      "displayName": "Ange VALLI",
      "userId": "07174695979630093145"
     },
     "user_tz": -120
    },
    "id": "aELU6IXUVV6M",
    "outputId": "370908dc-21be-4e80-d7e1-f4c9fb10612c"
   },
   "outputs": [
    {
     "name": "stdout",
     "output_type": "stream",
     "text": [
      "Epoch 1/100\n"
     ]
    },
    {
     "name": "stderr",
     "output_type": "stream",
     "text": [
      "2023-04-24 17:37:10.840481: I tensorflow/core/common_runtime/executor.cc:1197] [/device:CPU:0] (DEBUG INFO) Executor start aborting (this does not indicate an error and you can ignore this message): INVALID_ARGUMENT: You must feed a value for placeholder tensor 'Placeholder/_0' with dtype double and shape [2014,1,1]\n",
      "\t [[{{node Placeholder/_0}}]]\n",
      "2023-04-24 17:37:10.840947: I tensorflow/core/common_runtime/executor.cc:1197] [/device:CPU:0] (DEBUG INFO) Executor start aborting (this does not indicate an error and you can ignore this message): INVALID_ARGUMENT: You must feed a value for placeholder tensor 'Placeholder/_0' with dtype double and shape [2014,1,1]\n",
      "\t [[{{node Placeholder/_0}}]]\n"
     ]
    },
    {
     "name": "stdout",
     "output_type": "stream",
     "text": [
      "     13/Unknown - 5s 14ms/step - loss: 0.0779 - mae: 0.3504"
     ]
    },
    {
     "name": "stderr",
     "output_type": "stream",
     "text": [
      "2023-04-24 17:37:15.543446: I tensorflow/core/common_runtime/executor.cc:1197] [/device:CPU:0] (DEBUG INFO) Executor start aborting (this does not indicate an error and you can ignore this message): INVALID_ARGUMENT: You must feed a value for placeholder tensor 'Placeholder/_0' with dtype double and shape [1006,1,1]\n",
      "\t [[{{node Placeholder/_0}}]]\n",
      "2023-04-24 17:37:15.544296: I tensorflow/core/common_runtime/executor.cc:1197] [/device:CPU:0] (DEBUG INFO) Executor start aborting (this does not indicate an error and you can ignore this message): INVALID_ARGUMENT: You must feed a value for placeholder tensor 'Placeholder/_0' with dtype double and shape [1006,1,1]\n",
      "\t [[{{node Placeholder/_0}}]]\n"
     ]
    },
    {
     "name": "stdout",
     "output_type": "stream",
     "text": [
      "16/16 [==============================] - 5s 69ms/step - loss: 0.0690 - mae: 0.3210 - val_loss: 0.0711 - val_mae: 0.2735\n",
      "Epoch 2/100\n",
      "16/16 [==============================] - 1s 27ms/step - loss: 0.0068 - mae: 0.0872 - val_loss: 0.0192 - val_mae: 0.1543\n",
      "Epoch 3/100\n",
      "16/16 [==============================] - 0s 26ms/step - loss: 0.0016 - mae: 0.0437 - val_loss: 0.0039 - val_mae: 0.0744\n",
      "Epoch 4/100\n",
      "16/16 [==============================] - 1s 31ms/step - loss: 2.9966e-04 - mae: 0.0183 - val_loss: 5.7981e-04 - val_mae: 0.0242\n",
      "Epoch 5/100\n",
      "16/16 [==============================] - 1s 31ms/step - loss: 1.6810e-04 - mae: 0.0140 - val_loss: 3.6404e-04 - val_mae: 0.0192\n",
      "Epoch 6/100\n",
      "16/16 [==============================] - 1s 36ms/step - loss: 1.3812e-04 - mae: 0.0124 - val_loss: 3.3414e-04 - val_mae: 0.0198\n",
      "Epoch 7/100\n",
      "16/16 [==============================] - 1s 31ms/step - loss: 1.2649e-04 - mae: 0.0118 - val_loss: 2.6790e-04 - val_mae: 0.0164\n",
      "Epoch 8/100\n",
      "16/16 [==============================] - 0s 21ms/step - loss: 1.3422e-04 - mae: 0.0123 - val_loss: 3.0668e-04 - val_mae: 0.0179\n",
      "Epoch 9/100\n",
      "16/16 [==============================] - 0s 26ms/step - loss: 1.1461e-04 - mae: 0.0112 - val_loss: 2.4255e-04 - val_mae: 0.0157\n",
      "Epoch 10/100\n",
      "16/16 [==============================] - 0s 24ms/step - loss: 1.1328e-04 - mae: 0.0112 - val_loss: 6.5083e-04 - val_mae: 0.0318\n",
      "Epoch 11/100\n",
      "16/16 [==============================] - 0s 20ms/step - loss: 1.2123e-04 - mae: 0.0118 - val_loss: 6.9656e-04 - val_mae: 0.0329\n",
      "Epoch 12/100\n",
      "16/16 [==============================] - 1s 37ms/step - loss: 1.1026e-04 - mae: 0.0112 - val_loss: 3.6093e-04 - val_mae: 0.0205\n",
      "Epoch 13/100\n",
      "16/16 [==============================] - 1s 33ms/step - loss: 9.9755e-05 - mae: 0.0105 - val_loss: 2.3512e-04 - val_mae: 0.0160\n",
      "Epoch 14/100\n",
      "16/16 [==============================] - 1s 27ms/step - loss: 1.0749e-04 - mae: 0.0110 - val_loss: 0.0012 - val_mae: 0.0456\n",
      "Epoch 15/100\n",
      "16/16 [==============================] - 0s 26ms/step - loss: 1.0115e-04 - mae: 0.0107 - val_loss: 3.9824e-04 - val_mae: 0.0236\n",
      "Epoch 16/100\n",
      "16/16 [==============================] - 0s 23ms/step - loss: 1.0697e-04 - mae: 0.0109 - val_loss: 0.0024 - val_mae: 0.0638\n",
      "Epoch 17/100\n",
      "16/16 [==============================] - 1s 29ms/step - loss: 1.1907e-04 - mae: 0.0113 - val_loss: 2.0865e-04 - val_mae: 0.0144\n",
      "Epoch 18/100\n",
      "16/16 [==============================] - 1s 26ms/step - loss: 8.4047e-05 - mae: 0.0097 - val_loss: 2.5040e-04 - val_mae: 0.0171\n",
      "Epoch 19/100\n",
      "16/16 [==============================] - 1s 24ms/step - loss: 1.1593e-04 - mae: 0.0113 - val_loss: 0.0016 - val_mae: 0.0529\n",
      "Epoch 20/100\n",
      "16/16 [==============================] - 0s 22ms/step - loss: 9.8635e-05 - mae: 0.0105 - val_loss: 3.2560e-04 - val_mae: 0.0209\n",
      "Epoch 21/100\n",
      "16/16 [==============================] - 0s 20ms/step - loss: 8.7564e-05 - mae: 0.0099 - val_loss: 8.9547e-04 - val_mae: 0.0387\n",
      "Epoch 22/100\n",
      "16/16 [==============================] - 0s 27ms/step - loss: 8.2564e-05 - mae: 0.0095 - val_loss: 1.8432e-04 - val_mae: 0.0137\n",
      "Epoch 23/100\n",
      "16/16 [==============================] - 1s 28ms/step - loss: 7.4927e-05 - mae: 0.0090 - val_loss: 1.8055e-04 - val_mae: 0.0137\n",
      "Epoch 24/100\n",
      "16/16 [==============================] - 1s 24ms/step - loss: 3.4499e-04 - mae: 0.0176 - val_loss: 4.1471e-04 - val_mae: 0.0227\n",
      "Epoch 25/100\n",
      "16/16 [==============================] - 1s 28ms/step - loss: 1.1432e-04 - mae: 0.0113 - val_loss: 2.3534e-04 - val_mae: 0.0154\n",
      "Epoch 26/100\n",
      "16/16 [==============================] - 0s 22ms/step - loss: 9.5288e-05 - mae: 0.0104 - val_loss: 2.5465e-04 - val_mae: 0.0170\n",
      "Epoch 27/100\n",
      "16/16 [==============================] - 0s 20ms/step - loss: 8.4680e-05 - mae: 0.0097 - val_loss: 2.7688e-04 - val_mae: 0.0181\n",
      "Epoch 28/100\n",
      "16/16 [==============================] - 0s 24ms/step - loss: 8.0300e-05 - mae: 0.0094 - val_loss: 1.8866e-04 - val_mae: 0.0137\n",
      "Epoch 29/100\n",
      "16/16 [==============================] - 0s 24ms/step - loss: 8.6420e-05 - mae: 0.0098 - val_loss: 5.2149e-04 - val_mae: 0.0271\n",
      "Epoch 30/100\n",
      "16/16 [==============================] - 1s 27ms/step - loss: 8.0609e-05 - mae: 0.0094 - val_loss: 1.7586e-04 - val_mae: 0.0133\n",
      "Epoch 31/100\n",
      "16/16 [==============================] - 0s 21ms/step - loss: 7.4158e-05 - mae: 0.0089 - val_loss: 2.6508e-04 - val_mae: 0.0184\n",
      "Epoch 32/100\n",
      "16/16 [==============================] - 0s 21ms/step - loss: 7.2656e-05 - mae: 0.0089 - val_loss: 1.8461e-04 - val_mae: 0.0138\n",
      "Epoch 33/100\n",
      "16/16 [==============================] - 0s 21ms/step - loss: 1.4805e-04 - mae: 0.0128 - val_loss: 0.0015 - val_mae: 0.0507\n",
      "Epoch 34/100\n",
      "16/16 [==============================] - 0s 21ms/step - loss: 8.5525e-05 - mae: 0.0097 - val_loss: 2.3202e-04 - val_mae: 0.0165\n",
      "Epoch 35/100\n",
      "16/16 [==============================] - 0s 22ms/step - loss: 7.3726e-05 - mae: 0.0089 - val_loss: 1.7762e-04 - val_mae: 0.0135\n",
      "Epoch 36/100\n",
      "16/16 [==============================] - 0s 25ms/step - loss: 7.1563e-05 - mae: 0.0087 - val_loss: 1.6891e-04 - val_mae: 0.0131\n",
      "Epoch 37/100\n",
      "16/16 [==============================] - 0s 24ms/step - loss: 7.0003e-05 - mae: 0.0086 - val_loss: 1.6281e-04 - val_mae: 0.0128\n",
      "Epoch 38/100\n",
      "16/16 [==============================] - 0s 21ms/step - loss: 7.0163e-05 - mae: 0.0086 - val_loss: 3.1314e-04 - val_mae: 0.0208\n",
      "Epoch 39/100\n",
      "16/16 [==============================] - 0s 21ms/step - loss: 1.1918e-04 - mae: 0.0112 - val_loss: 0.0039 - val_mae: 0.0847\n",
      "Epoch 40/100\n",
      "16/16 [==============================] - 0s 20ms/step - loss: 1.0985e-04 - mae: 0.0107 - val_loss: 2.8956e-04 - val_mae: 0.0194\n",
      "Epoch 41/100\n",
      "16/16 [==============================] - 0s 21ms/step - loss: 7.5084e-05 - mae: 0.0090 - val_loss: 3.9828e-04 - val_mae: 0.0239\n",
      "Epoch 42/100\n",
      "16/16 [==============================] - 0s 20ms/step - loss: 8.4887e-05 - mae: 0.0098 - val_loss: 4.9142e-04 - val_mae: 0.0268\n",
      "Epoch 43/100\n",
      "16/16 [==============================] - 0s 20ms/step - loss: 7.3942e-05 - mae: 0.0088 - val_loss: 2.0865e-04 - val_mae: 0.0155\n",
      "Epoch 44/100\n",
      "16/16 [==============================] - 0s 20ms/step - loss: 7.0053e-05 - mae: 0.0086 - val_loss: 1.6524e-04 - val_mae: 0.0131\n",
      "Epoch 45/100\n",
      "16/16 [==============================] - 0s 20ms/step - loss: 1.0691e-04 - mae: 0.0109 - val_loss: 0.0037 - val_mae: 0.0823\n",
      "Epoch 46/100\n",
      "16/16 [==============================] - 0s 20ms/step - loss: 1.1647e-04 - mae: 0.0113 - val_loss: 0.0011 - val_mae: 0.0422\n",
      "Epoch 47/100\n",
      "16/16 [==============================] - 0s 23ms/step - loss: 7.6846e-05 - mae: 0.0091 - val_loss: 1.7019e-04 - val_mae: 0.0133\n"
     ]
    }
   ],
   "source": [
    "type_of_model: str = \"cnn\"\n",
    "nb_variables: int = 1\n",
    "model_training(type_=type_of_model, window_size_=window_size,\n",
    "               learning_rate_=5e-4, nb_variables_=nb_variables)"
   ]
  },
  {
   "cell_type": "code",
   "execution_count": 43,
   "metadata": {
    "executionInfo": {
     "elapsed": 1596,
     "status": "ok",
     "timestamp": 1664526800507,
     "user": {
      "displayName": "Ange VALLI",
      "userId": "07174695979630093145"
     },
     "user_tz": -120
    },
    "id": "7GHUX_i7Vagf"
   },
   "outputs": [],
   "source": [
    "# reload best model checkpoint\n",
    "model: keras.models = keras.models.load_model(\n",
    "    f\"my_checkpoint_{type_of_model}_{nb_variables}.h5\")"
   ]
  },
  {
   "cell_type": "code",
   "execution_count": 46,
   "metadata": {
    "executionInfo": {
     "elapsed": 981,
     "status": "ok",
     "timestamp": 1664526801486,
     "user": {
      "displayName": "Ange VALLI",
      "userId": "07174695979630093145"
     },
     "user_tz": -120
    },
    "id": "3AcLJJM7VhUH"
   },
   "outputs": [
    {
     "name": "stdout",
     "output_type": "stream",
     "text": [
      "     46/Unknown - 0s 3ms/step"
     ]
    },
    {
     "name": "stderr",
     "output_type": "stream",
     "text": [
      "2023-04-24 17:58:36.664370: I tensorflow/core/common_runtime/executor.cc:1197] [/device:CPU:0] (DEBUG INFO) Executor start aborting (this does not indicate an error and you can ignore this message): INVALID_ARGUMENT: You must feed a value for placeholder tensor 'Placeholder/_0' with dtype double and shape [3901,1,1]\n",
      "\t [[{{node Placeholder/_0}}]]\n",
      "2023-04-24 17:58:36.665474: I tensorflow/core/common_runtime/executor.cc:1197] [/device:CPU:0] (DEBUG INFO) Executor start aborting (this does not indicate an error and you can ignore this message): INVALID_ARGUMENT: You must feed a value for placeholder tensor 'Placeholder/_0' with dtype double and shape [3901,1,1]\n",
      "\t [[{{node Placeholder/_0}}]]\n"
     ]
    },
    {
     "name": "stdout",
     "output_type": "stream",
     "text": [
      "121/121 [==============================] - 0s 4ms/step\n"
     ]
    }
   ],
   "source": [
    "cnn_unscaled_forecast: np.array = format_cnn_forecast(\n",
    "    model_=model, spy_normalized_to_traindata_=spy_normalized_to_traindata,\n",
    "    x_test_ = x_test, x_train_scaler_=x_train_scaler, window_size_=window_size\n",
    "    )"
   ]
  },
  {
   "cell_type": "markdown",
   "metadata": {
    "id": "8sheqkSvmD86"
   },
   "source": [
    "Visualisation of the prediction"
   ]
  },
  {
   "cell_type": "code",
   "execution_count": 47,
   "metadata": {
    "colab": {
     "base_uri": "https://localhost:8080/",
     "height": 410
    },
    "executionInfo": {
     "elapsed": 16,
     "status": "ok",
     "timestamp": 1664526801487,
     "user": {
      "displayName": "Ange VALLI",
      "userId": "07174695979630093145"
     },
     "user_tz": -120
    },
    "id": "h_J0ObmaVlIE",
    "outputId": "72321715-0639-474f-b714-14f3d6f57e9b"
   },
   "outputs": [
    {
     "data": {
      "image/png": "[encoded data removed]",
      "text/plain": [
       "<Figure size 1000x600 with 1 Axes>"
      ]
     },
     "metadata": {},
     "output_type": "display_data"
    }
   ],
   "source": [
    "# Plot results\n",
    "plt.figure(figsize=(10, 6))\n",
    "\n",
    "plt.ylabel('Dollars $')\n",
    "plt.xlabel('Timestep in Days')\n",
    "plt.title(f'Full CNN Model {window_size}')\n",
    "plot_series(x_test.index, x_test)\n",
    "plot_series(x_test.index, cnn_unscaled_forecast)"
   ]
  },
  {
   "cell_type": "markdown",
   "metadata": {
    "id": "sl63KkTkyTt2"
   },
   "source": [
    "This visualisation shows a prediction of the price which is, on average, close to the evolution of the SPY price. Therefore, the curve of the prediction shows that the model fails to capture the day-by-day differences on the price and therefore is not satisfying enough for the prediction of the return. The average shape of the evolution of the price is well reproduced but there is a gap we do not want to have in the precision."
   ]
  },
  {
   "cell_type": "code",
   "execution_count": 48,
   "metadata": {
    "colab": {
     "base_uri": "https://localhost:8080/",
     "height": 0
    },
    "executionInfo": {
     "elapsed": 14,
     "status": "ok",
     "timestamp": 1664526801487,
     "user": {
      "displayName": "Ange VALLI",
      "userId": "07174695979630093145"
     },
     "user_tz": -120
    },
    "id": "gDwpdUw4iB9i",
    "outputId": "63be4ecc-f367-445f-d8ac-d76b262b1436"
   },
   "outputs": [
    {
     "data": {
      "text/plain": [
       "5.6175246"
      ]
     },
     "execution_count": 48,
     "metadata": {},
     "output_type": "execute_result"
    }
   ],
   "source": [
    "# Calculate MAE on price\n",
    "keras.metrics.mean_absolute_error(x_test, cnn_unscaled_forecast).numpy()"
   ]
  },
  {
   "cell_type": "code",
   "execution_count": 49,
   "metadata": {
    "colab": {
     "base_uri": "https://localhost:8080/",
     "height": 0
    },
    "executionInfo": {
     "elapsed": 11,
     "status": "ok",
     "timestamp": 1664526801488,
     "user": {
      "displayName": "Ange VALLI",
      "userId": "07174695979630093145"
     },
     "user_tz": -120
    },
    "id": "4uCTbO2WLFua",
    "outputId": "c181f13a-1d40-494f-8eb8-7517ed9e881a"
   },
   "outputs": [
    {
     "data": {
      "text/plain": [
       "3.6328223"
      ]
     },
     "execution_count": 49,
     "metadata": {},
     "output_type": "execute_result"
    }
   ],
   "source": [
    "# Calculate MAE on Return\n",
    "x_test_series: pd.Series = (pd.Series(x_test) - pd.Series(x_test).shift(1)).dropna()\n",
    "cnn_unscaled_forecast_series: pd.Series = (pd.Series(cnn_unscaled_forecast) - pd.Series(cnn_unscaled_forecast).shift(1)).dropna()\n",
    "keras.metrics.mean_absolute_error(x_test_series, cnn_unscaled_forecast_series).numpy()"
   ]
  },
  {
   "cell_type": "markdown",
   "metadata": {
    "id": "NCaWjIT5ihH7"
   },
   "source": [
    "## LSTM Model"
   ]
  },
  {
   "cell_type": "markdown",
   "metadata": {
    "id": "8-ycivbN0Gd8"
   },
   "source": [
    "The LSTM (Long-Short Term Memory) Neural Network is a type of recurrent neural network which has been designed to be able to capture the temporal component of a dataset, which was not possible with classical Perceptron architecture. The LSTM cell, in comparison of the RNN cell, controls the values of the gradient of the loss function in the forward-backward propagation, so it avoids the phenomenon of vanishing or exploding gradient."
   ]
  },
  {
   "cell_type": "markdown",
   "metadata": {
    "id": "GTKBJOcX0Gd8"
   },
   "source": [
    "In the litterature, learning rate for training an LSTM Neural Network is at the scale of $10^{-4}$ and we choose a window size of $30$. We fine tune a higher number of epochs of $500$, compared to $100$ for CNN, with early stopping method of $50$ epochs as patience, in case the values of the loss function in the stochastic gradient descent does not reduce any more and is in stagnation.\n",
    "\n",
    "The early stopping method is also a feature which prevents overfitting of a model. If the loss value stagnates, this is representative of the phenomenom of having the predicted solution in a local minimum of the hyperplane of solutions. The loss value therefore stagnate, as the weights values are still evolving through the epochs during the learning, but the local minimum is already reached."
   ]
  },
  {
   "cell_type": "code",
   "execution_count": 50,
   "metadata": {
    "colab": {
     "base_uri": "https://localhost:8080/",
     "height": 0
    },
    "executionInfo": {
     "elapsed": 59961,
     "status": "ok",
     "timestamp": 1664526861439,
     "user": {
      "displayName": "Ange VALLI",
      "userId": "07174695979630093145"
     },
     "user_tz": -120
    },
    "id": "2z5WaTMAme7J",
    "outputId": "0de49923-0cca-415a-f50b-6f560619eb71"
   },
   "outputs": [
    {
     "name": "stderr",
     "output_type": "stream",
     "text": [
      "2023-04-24 17:58:38.332481: I tensorflow/core/common_runtime/executor.cc:1197] [/device:CPU:0] (DEBUG INFO) Executor start aborting (this does not indicate an error and you can ignore this message): INVALID_ARGUMENT: You must feed a value for placeholder tensor 'gradients/split_2_grad/concat/split_2/split_dim' with dtype int32\n",
      "\t [[{{node gradients/split_2_grad/concat/split_2/split_dim}}]]\n",
      "2023-04-24 17:58:38.334696: I tensorflow/core/common_runtime/executor.cc:1197] [/device:CPU:0] (DEBUG INFO) Executor start aborting (this does not indicate an error and you can ignore this message): INVALID_ARGUMENT: You must feed a value for placeholder tensor 'gradients/split_grad/concat/split/split_dim' with dtype int32\n",
      "\t [[{{node gradients/split_grad/concat/split/split_dim}}]]\n",
      "2023-04-24 17:58:38.336926: I tensorflow/core/common_runtime/executor.cc:1197] [/device:CPU:0] (DEBUG INFO) Executor start aborting (this does not indicate an error and you can ignore this message): INVALID_ARGUMENT: You must feed a value for placeholder tensor 'gradients/split_1_grad/concat/split_1/split_dim' with dtype int32\n",
      "\t [[{{node gradients/split_1_grad/concat/split_1/split_dim}}]]\n"
     ]
    },
    {
     "name": "stdout",
     "output_type": "stream",
     "text": [
      "Epoch 1/500\n"
     ]
    },
    {
     "name": "stderr",
     "output_type": "stream",
     "text": [
      "2023-04-24 17:58:38.651060: I tensorflow/core/common_runtime/executor.cc:1197] [/device:CPU:0] (DEBUG INFO) Executor start aborting (this does not indicate an error and you can ignore this message): INVALID_ARGUMENT: You must feed a value for placeholder tensor 'gradients/split_2_grad/concat/split_2/split_dim' with dtype int32\n",
      "\t [[{{node gradients/split_2_grad/concat/split_2/split_dim}}]]\n",
      "2023-04-24 17:58:38.653114: I tensorflow/core/common_runtime/executor.cc:1197] [/device:CPU:0] (DEBUG INFO) Executor start aborting (this does not indicate an error and you can ignore this message): INVALID_ARGUMENT: You must feed a value for placeholder tensor 'gradients/split_grad/concat/split/split_dim' with dtype int32\n",
      "\t [[{{node gradients/split_grad/concat/split/split_dim}}]]\n",
      "2023-04-24 17:58:38.654950: I tensorflow/core/common_runtime/executor.cc:1197] [/device:CPU:0] (DEBUG INFO) Executor start aborting (this does not indicate an error and you can ignore this message): INVALID_ARGUMENT: You must feed a value for placeholder tensor 'gradients/split_1_grad/concat/split_1/split_dim' with dtype int32\n",
      "\t [[{{node gradients/split_1_grad/concat/split_1/split_dim}}]]\n",
      "2023-04-24 17:58:38.734589: I tensorflow/core/common_runtime/executor.cc:1197] [/device:CPU:0] (DEBUG INFO) Executor start aborting (this does not indicate an error and you can ignore this message): INVALID_ARGUMENT: You must feed a value for placeholder tensor 'Placeholder/_0' with dtype double and shape [2014,1]\n",
      "\t [[{{node Placeholder/_0}}]]\n",
      "2023-04-24 17:58:38.734932: I tensorflow/core/common_runtime/executor.cc:1197] [/device:CPU:0] (DEBUG INFO) Executor start aborting (this does not indicate an error and you can ignore this message): INVALID_ARGUMENT: You must feed a value for placeholder tensor 'Placeholder/_0' with dtype double and shape [2014,1]\n",
      "\t [[{{node Placeholder/_0}}]]\n",
      "2023-04-24 17:58:39.032220: I tensorflow/core/common_runtime/executor.cc:1197] [/device:CPU:0] (DEBUG INFO) Executor start aborting (this does not indicate an error and you can ignore this message): INVALID_ARGUMENT: You must feed a value for placeholder tensor 'gradients/split_2_grad/concat/split_2/split_dim' with dtype int32\n",
      "\t [[{{node gradients/split_2_grad/concat/split_2/split_dim}}]]\n",
      "2023-04-24 17:58:39.034712: I tensorflow/core/common_runtime/executor.cc:1197] [/device:CPU:0] (DEBUG INFO) Executor start aborting (this does not indicate an error and you can ignore this message): INVALID_ARGUMENT: You must feed a value for placeholder tensor 'gradients/split_grad/concat/split/split_dim' with dtype int32\n",
      "\t [[{{node gradients/split_grad/concat/split/split_dim}}]]\n",
      "2023-04-24 17:58:39.037063: I tensorflow/core/common_runtime/executor.cc:1197] [/device:CPU:0] (DEBUG INFO) Executor start aborting (this does not indicate an error and you can ignore this message): INVALID_ARGUMENT: You must feed a value for placeholder tensor 'gradients/split_1_grad/concat/split_1/split_dim' with dtype int32\n",
      "\t [[{{node gradients/split_1_grad/concat/split_1/split_dim}}]]\n",
      "2023-04-24 17:58:39.307883: I tensorflow/core/common_runtime/executor.cc:1197] [/device:CPU:0] (DEBUG INFO) Executor start aborting (this does not indicate an error and you can ignore this message): INVALID_ARGUMENT: You must feed a value for placeholder tensor 'gradients/split_2_grad/concat/split_2/split_dim' with dtype int32\n",
      "\t [[{{node gradients/split_2_grad/concat/split_2/split_dim}}]]\n",
      "2023-04-24 17:58:39.310450: I tensorflow/core/common_runtime/executor.cc:1197] [/device:CPU:0] (DEBUG INFO) Executor start aborting (this does not indicate an error and you can ignore this message): INVALID_ARGUMENT: You must feed a value for placeholder tensor 'gradients/split_grad/concat/split/split_dim' with dtype int32\n",
      "\t [[{{node gradients/split_grad/concat/split/split_dim}}]]\n",
      "2023-04-24 17:58:39.312647: I tensorflow/core/common_runtime/executor.cc:1197] [/device:CPU:0] (DEBUG INFO) Executor start aborting (this does not indicate an error and you can ignore this message): INVALID_ARGUMENT: You must feed a value for placeholder tensor 'gradients/split_1_grad/concat/split_1/split_dim' with dtype int32\n",
      "\t [[{{node gradients/split_1_grad/concat/split_1/split_dim}}]]\n",
      "2023-04-24 17:58:40.904502: I tensorflow/core/common_runtime/executor.cc:1197] [/device:CPU:0] (DEBUG INFO) Executor start aborting (this does not indicate an error and you can ignore this message): INVALID_ARGUMENT: You must feed a value for placeholder tensor 'gradients/split_2_grad/concat/split_2/split_dim' with dtype int32\n",
      "\t [[{{node gradients/split_2_grad/concat/split_2/split_dim}}]]\n",
      "2023-04-24 17:58:40.906768: I tensorflow/core/common_runtime/executor.cc:1197] [/device:CPU:0] (DEBUG INFO) Executor start aborting (this does not indicate an error and you can ignore this message): INVALID_ARGUMENT: You must feed a value for placeholder tensor 'gradients/split_grad/concat/split/split_dim' with dtype int32\n",
      "\t [[{{node gradients/split_grad/concat/split/split_dim}}]]\n",
      "2023-04-24 17:58:40.908748: I tensorflow/core/common_runtime/executor.cc:1197] [/device:CPU:0] (DEBUG INFO) Executor start aborting (this does not indicate an error and you can ignore this message): INVALID_ARGUMENT: You must feed a value for placeholder tensor 'gradients/split_1_grad/concat/split_1/split_dim' with dtype int32\n",
      "\t [[{{node gradients/split_1_grad/concat/split_1/split_dim}}]]\n",
      "2023-04-24 17:58:41.193209: I tensorflow/core/common_runtime/executor.cc:1197] [/device:CPU:0] (DEBUG INFO) Executor start aborting (this does not indicate an error and you can ignore this message): INVALID_ARGUMENT: You must feed a value for placeholder tensor 'gradients/split_2_grad/concat/split_2/split_dim' with dtype int32\n",
      "\t [[{{node gradients/split_2_grad/concat/split_2/split_dim}}]]\n",
      "2023-04-24 17:58:41.196112: I tensorflow/core/common_runtime/executor.cc:1197] [/device:CPU:0] (DEBUG INFO) Executor start aborting (this does not indicate an error and you can ignore this message): INVALID_ARGUMENT: You must feed a value for placeholder tensor 'gradients/split_grad/concat/split/split_dim' with dtype int32\n",
      "\t [[{{node gradients/split_grad/concat/split/split_dim}}]]\n",
      "2023-04-24 17:58:41.199072: I tensorflow/core/common_runtime/executor.cc:1197] [/device:CPU:0] (DEBUG INFO) Executor start aborting (this does not indicate an error and you can ignore this message): INVALID_ARGUMENT: You must feed a value for placeholder tensor 'gradients/split_1_grad/concat/split_1/split_dim' with dtype int32\n",
      "\t [[{{node gradients/split_1_grad/concat/split_1/split_dim}}]]\n"
     ]
    },
    {
     "name": "stdout",
     "output_type": "stream",
     "text": [
      "     65/Unknown - 6s 9ms/step - loss: 0.0269 - mae: 0.1616"
     ]
    },
    {
     "name": "stderr",
     "output_type": "stream",
     "text": [
      "2023-04-24 17:58:45.194405: I tensorflow/core/common_runtime/executor.cc:1197] [/device:CPU:0] (DEBUG INFO) Executor start aborting (this does not indicate an error and you can ignore this message): INVALID_ARGUMENT: You must feed a value for placeholder tensor 'Placeholder/_0' with dtype double and shape [1006,1]\n",
      "\t [[{{node Placeholder/_0}}]]\n",
      "2023-04-24 17:58:45.194869: I tensorflow/core/common_runtime/executor.cc:1197] [/device:CPU:0] (DEBUG INFO) Executor start aborting (this does not indicate an error and you can ignore this message): INVALID_ARGUMENT: You must feed a value for placeholder tensor 'Placeholder/_0' with dtype double and shape [1006,1]\n",
      "\t [[{{node Placeholder/_0}}]]\n",
      "2023-04-24 17:58:45.453750: I tensorflow/core/common_runtime/executor.cc:1197] [/device:CPU:0] (DEBUG INFO) Executor start aborting (this does not indicate an error and you can ignore this message): INVALID_ARGUMENT: You must feed a value for placeholder tensor 'gradients/split_2_grad/concat/split_2/split_dim' with dtype int32\n",
      "\t [[{{node gradients/split_2_grad/concat/split_2/split_dim}}]]\n",
      "2023-04-24 17:58:45.456744: I tensorflow/core/common_runtime/executor.cc:1197] [/device:CPU:0] (DEBUG INFO) Executor start aborting (this does not indicate an error and you can ignore this message): INVALID_ARGUMENT: You must feed a value for placeholder tensor 'gradients/split_grad/concat/split/split_dim' with dtype int32\n",
      "\t [[{{node gradients/split_grad/concat/split/split_dim}}]]\n",
      "2023-04-24 17:58:45.458614: I tensorflow/core/common_runtime/executor.cc:1197] [/device:CPU:0] (DEBUG INFO) Executor start aborting (this does not indicate an error and you can ignore this message): INVALID_ARGUMENT: You must feed a value for placeholder tensor 'gradients/split_1_grad/concat/split_1/split_dim' with dtype int32\n",
      "\t [[{{node gradients/split_1_grad/concat/split_1/split_dim}}]]\n",
      "2023-04-24 17:58:45.686570: I tensorflow/core/common_runtime/executor.cc:1197] [/device:CPU:0] (DEBUG INFO) Executor start aborting (this does not indicate an error and you can ignore this message): INVALID_ARGUMENT: You must feed a value for placeholder tensor 'gradients/split_2_grad/concat/split_2/split_dim' with dtype int32\n",
      "\t [[{{node gradients/split_2_grad/concat/split_2/split_dim}}]]\n",
      "2023-04-24 17:58:45.688726: I tensorflow/core/common_runtime/executor.cc:1197] [/device:CPU:0] (DEBUG INFO) Executor start aborting (this does not indicate an error and you can ignore this message): INVALID_ARGUMENT: You must feed a value for placeholder tensor 'gradients/split_grad/concat/split/split_dim' with dtype int32\n",
      "\t [[{{node gradients/split_grad/concat/split/split_dim}}]]\n",
      "2023-04-24 17:58:45.690497: I tensorflow/core/common_runtime/executor.cc:1197] [/device:CPU:0] (DEBUG INFO) Executor start aborting (this does not indicate an error and you can ignore this message): INVALID_ARGUMENT: You must feed a value for placeholder tensor 'gradients/split_1_grad/concat/split_1/split_dim' with dtype int32\n",
      "\t [[{{node gradients/split_1_grad/concat/split_1/split_dim}}]]\n"
     ]
    },
    {
     "name": "stdout",
     "output_type": "stream",
     "text": [
      "67/67 [==============================] - 7s 25ms/step - loss: 0.0261 - mae: 0.1578 - val_loss: 0.0016 - val_mae: 0.0436\n",
      "Epoch 2/500\n",
      "67/67 [==============================] - 1s 12ms/step - loss: 0.0012 - mae: 0.0329 - val_loss: 0.0018 - val_mae: 0.0463\n",
      "Epoch 3/500\n",
      "67/67 [==============================] - 1s 12ms/step - loss: 0.0011 - mae: 0.0319 - val_loss: 0.0020 - val_mae: 0.0480\n",
      "Epoch 4/500\n",
      "67/67 [==============================] - 1s 11ms/step - loss: 0.0011 - mae: 0.0315 - val_loss: 0.0021 - val_mae: 0.0498\n",
      "Epoch 5/500\n",
      "67/67 [==============================] - 1s 11ms/step - loss: 0.0011 - mae: 0.0311 - val_loss: 0.0023 - val_mae: 0.0513\n",
      "Epoch 6/500\n",
      "67/67 [==============================] - 1s 13ms/step - loss: 0.0010 - mae: 0.0307 - val_loss: 0.0024 - val_mae: 0.0524\n",
      "Epoch 7/500\n",
      "67/67 [==============================] - 1s 12ms/step - loss: 0.0010 - mae: 0.0304 - val_loss: 0.0025 - val_mae: 0.0534\n",
      "Epoch 8/500\n",
      "67/67 [==============================] - 1s 11ms/step - loss: 9.8691e-04 - mae: 0.0300 - val_loss: 0.0025 - val_mae: 0.0542\n",
      "Epoch 9/500\n",
      "67/67 [==============================] - 1s 13ms/step - loss: 9.6248e-04 - mae: 0.0297 - val_loss: 0.0026 - val_mae: 0.0548\n",
      "Epoch 10/500\n",
      "67/67 [==============================] - 1s 14ms/step - loss: 9.3907e-04 - mae: 0.0294 - val_loss: 0.0027 - val_mae: 0.0554\n",
      "Epoch 11/500\n",
      "67/67 [==============================] - 1s 11ms/step - loss: 9.1669e-04 - mae: 0.0291 - val_loss: 0.0027 - val_mae: 0.0559\n",
      "Epoch 12/500\n",
      "67/67 [==============================] - 1s 11ms/step - loss: 8.9533e-04 - mae: 0.0288 - val_loss: 0.0028 - val_mae: 0.0563\n",
      "Epoch 13/500\n",
      "67/67 [==============================] - 1s 11ms/step - loss: 8.7501e-04 - mae: 0.0285 - val_loss: 0.0028 - val_mae: 0.0566\n",
      "Epoch 14/500\n",
      "67/67 [==============================] - 1s 12ms/step - loss: 8.5570e-04 - mae: 0.0282 - val_loss: 0.0028 - val_mae: 0.0570\n",
      "Epoch 15/500\n",
      "67/67 [==============================] - 1s 12ms/step - loss: 8.3741e-04 - mae: 0.0279 - val_loss: 0.0029 - val_mae: 0.0573\n",
      "Epoch 16/500\n",
      "67/67 [==============================] - 1s 11ms/step - loss: 8.2011e-04 - mae: 0.0277 - val_loss: 0.0029 - val_mae: 0.0575\n",
      "Epoch 17/500\n",
      "67/67 [==============================] - 1s 11ms/step - loss: 8.0379e-04 - mae: 0.0274 - val_loss: 0.0029 - val_mae: 0.0578\n",
      "Epoch 18/500\n",
      "67/67 [==============================] - 1s 12ms/step - loss: 7.8843e-04 - mae: 0.0272 - val_loss: 0.0030 - val_mae: 0.0581\n",
      "Epoch 19/500\n",
      "67/67 [==============================] - 1s 12ms/step - loss: 7.7400e-04 - mae: 0.0270 - val_loss: 0.0030 - val_mae: 0.0583\n",
      "Epoch 20/500\n",
      "67/67 [==============================] - 1s 11ms/step - loss: 7.6049e-04 - mae: 0.0267 - val_loss: 0.0030 - val_mae: 0.0586\n",
      "Epoch 21/500\n",
      "67/67 [==============================] - 1s 12ms/step - loss: 7.4788e-04 - mae: 0.0266 - val_loss: 0.0031 - val_mae: 0.0588\n",
      "Epoch 22/500\n",
      "67/67 [==============================] - 1s 12ms/step - loss: 7.3614e-04 - mae: 0.0264 - val_loss: 0.0031 - val_mae: 0.0591\n",
      "Epoch 23/500\n",
      "67/67 [==============================] - 1s 11ms/step - loss: 7.2525e-04 - mae: 0.0262 - val_loss: 0.0031 - val_mae: 0.0593\n",
      "Epoch 24/500\n",
      "67/67 [==============================] - 1s 11ms/step - loss: 7.1519e-04 - mae: 0.0261 - val_loss: 0.0032 - val_mae: 0.0596\n",
      "Epoch 25/500\n",
      "67/67 [==============================] - 1s 12ms/step - loss: 7.0593e-04 - mae: 0.0259 - val_loss: 0.0032 - val_mae: 0.0598\n",
      "Epoch 26/500\n",
      "67/67 [==============================] - 1s 11ms/step - loss: 6.9747e-04 - mae: 0.0258 - val_loss: 0.0032 - val_mae: 0.0601\n",
      "Epoch 27/500\n",
      "67/67 [==============================] - 1s 11ms/step - loss: 6.8978e-04 - mae: 0.0257 - val_loss: 0.0033 - val_mae: 0.0604\n",
      "Epoch 28/500\n",
      "67/67 [==============================] - 1s 12ms/step - loss: 6.8285e-04 - mae: 0.0256 - val_loss: 0.0033 - val_mae: 0.0607\n",
      "Epoch 29/500\n",
      "67/67 [==============================] - 1s 11ms/step - loss: 6.7665e-04 - mae: 0.0255 - val_loss: 0.0033 - val_mae: 0.0609\n",
      "Epoch 30/500\n",
      "67/67 [==============================] - 1s 11ms/step - loss: 6.7119e-04 - mae: 0.0255 - val_loss: 0.0034 - val_mae: 0.0612\n",
      "Epoch 31/500\n",
      "67/67 [==============================] - 1s 12ms/step - loss: 6.6644e-04 - mae: 0.0254 - val_loss: 0.0034 - val_mae: 0.0615\n",
      "Epoch 32/500\n",
      "67/67 [==============================] - 1s 12ms/step - loss: 6.6239e-04 - mae: 0.0254 - val_loss: 0.0035 - val_mae: 0.0619\n",
      "Epoch 33/500\n",
      "67/67 [==============================] - 1s 11ms/step - loss: 6.5904e-04 - mae: 0.0254 - val_loss: 0.0035 - val_mae: 0.0622\n",
      "Epoch 34/500\n",
      "67/67 [==============================] - 1s 12ms/step - loss: 6.5638e-04 - mae: 0.0254 - val_loss: 0.0035 - val_mae: 0.0625\n",
      "Epoch 35/500\n",
      "67/67 [==============================] - 1s 11ms/step - loss: 6.5440e-04 - mae: 0.0254 - val_loss: 0.0036 - val_mae: 0.0628\n",
      "Epoch 36/500\n",
      "67/67 [==============================] - 1s 11ms/step - loss: 6.5309e-04 - mae: 0.0254 - val_loss: 0.0036 - val_mae: 0.0632\n",
      "Epoch 37/500\n",
      "67/67 [==============================] - 1s 11ms/step - loss: 6.5245e-04 - mae: 0.0255 - val_loss: 0.0037 - val_mae: 0.0635\n",
      "Epoch 38/500\n",
      "67/67 [==============================] - 1s 11ms/step - loss: 6.5246e-04 - mae: 0.0255 - val_loss: 0.0037 - val_mae: 0.0639\n",
      "Epoch 39/500\n",
      "67/67 [==============================] - 1s 11ms/step - loss: 6.5313e-04 - mae: 0.0256 - val_loss: 0.0038 - val_mae: 0.0642\n",
      "Epoch 40/500\n",
      "67/67 [==============================] - 1s 11ms/step - loss: 6.5444e-04 - mae: 0.0257 - val_loss: 0.0038 - val_mae: 0.0646\n",
      "Epoch 41/500\n",
      "67/67 [==============================] - 1s 11ms/step - loss: 6.5638e-04 - mae: 0.0258 - val_loss: 0.0039 - val_mae: 0.0650\n",
      "Epoch 42/500\n",
      "67/67 [==============================] - 1s 11ms/step - loss: 6.5895e-04 - mae: 0.0259 - val_loss: 0.0039 - val_mae: 0.0654\n",
      "Epoch 43/500\n",
      "67/67 [==============================] - 1s 10ms/step - loss: 6.6213e-04 - mae: 0.0260 - val_loss: 0.0040 - val_mae: 0.0658\n",
      "Epoch 44/500\n",
      "67/67 [==============================] - 1s 12ms/step - loss: 6.6590e-04 - mae: 0.0262 - val_loss: 0.0040 - val_mae: 0.0662\n",
      "Epoch 45/500\n",
      "67/67 [==============================] - 1s 10ms/step - loss: 6.7025e-04 - mae: 0.0263 - val_loss: 0.0041 - val_mae: 0.0665\n",
      "Epoch 46/500\n",
      "67/67 [==============================] - 1s 12ms/step - loss: 6.7517e-04 - mae: 0.0265 - val_loss: 0.0041 - val_mae: 0.0669\n",
      "Epoch 47/500\n",
      "67/67 [==============================] - 1s 11ms/step - loss: 6.8062e-04 - mae: 0.0267 - val_loss: 0.0042 - val_mae: 0.0673\n",
      "Epoch 48/500\n",
      "67/67 [==============================] - 1s 11ms/step - loss: 6.8658e-04 - mae: 0.0269 - val_loss: 0.0042 - val_mae: 0.0677\n",
      "Epoch 49/500\n",
      "67/67 [==============================] - 1s 12ms/step - loss: 6.9303e-04 - mae: 0.0271 - val_loss: 0.0043 - val_mae: 0.0681\n",
      "Epoch 50/500\n",
      "67/67 [==============================] - 1s 11ms/step - loss: 6.9992e-04 - mae: 0.0273 - val_loss: 0.0043 - val_mae: 0.0685\n",
      "Epoch 51/500\n",
      "67/67 [==============================] - 1s 12ms/step - loss: 7.0721e-04 - mae: 0.0276 - val_loss: 0.0044 - val_mae: 0.0688\n"
     ]
    }
   ],
   "source": [
    "type_of_model: str = \"lstm\"\n",
    "nb_variables_: int = 1\n",
    "model_training(\n",
    "    type_=type_of_model, window_size_=window_size, learning_rate_=1e-4,\n",
    "    nb_variables_=nb_variables_, nb_epochs_=500, patience_=50)"
   ]
  },
  {
   "cell_type": "code",
   "execution_count": 51,
   "metadata": {
    "executionInfo": {
     "elapsed": 1817,
     "status": "ok",
     "timestamp": 1664526863246,
     "user": {
      "displayName": "Ange VALLI",
      "userId": "07174695979630093145"
     },
     "user_tz": -120
    },
    "id": "P8LZFasfmhVs"
   },
   "outputs": [
    {
     "name": "stderr",
     "output_type": "stream",
     "text": [
      "2023-04-24 17:59:25.740315: I tensorflow/core/common_runtime/executor.cc:1197] [/device:CPU:0] (DEBUG INFO) Executor start aborting (this does not indicate an error and you can ignore this message): INVALID_ARGUMENT: You must feed a value for placeholder tensor 'gradients/split_2_grad/concat/split_2/split_dim' with dtype int32\n",
      "\t [[{{node gradients/split_2_grad/concat/split_2/split_dim}}]]\n",
      "2023-04-24 17:59:25.742187: I tensorflow/core/common_runtime/executor.cc:1197] [/device:CPU:0] (DEBUG INFO) Executor start aborting (this does not indicate an error and you can ignore this message): INVALID_ARGUMENT: You must feed a value for placeholder tensor 'gradients/split_grad/concat/split/split_dim' with dtype int32\n",
      "\t [[{{node gradients/split_grad/concat/split/split_dim}}]]\n",
      "2023-04-24 17:59:25.743904: I tensorflow/core/common_runtime/executor.cc:1197] [/device:CPU:0] (DEBUG INFO) Executor start aborting (this does not indicate an error and you can ignore this message): INVALID_ARGUMENT: You must feed a value for placeholder tensor 'gradients/split_1_grad/concat/split_1/split_dim' with dtype int32\n",
      "\t [[{{node gradients/split_1_grad/concat/split_1/split_dim}}]]\n",
      "2023-04-24 17:59:26.002514: I tensorflow/core/common_runtime/executor.cc:1197] [/device:CPU:0] (DEBUG INFO) Executor start aborting (this does not indicate an error and you can ignore this message): INVALID_ARGUMENT: You must feed a value for placeholder tensor 'gradients/split_2_grad/concat/split_2/split_dim' with dtype int32\n",
      "\t [[{{node gradients/split_2_grad/concat/split_2/split_dim}}]]\n",
      "2023-04-24 17:59:26.005005: I tensorflow/core/common_runtime/executor.cc:1197] [/device:CPU:0] (DEBUG INFO) Executor start aborting (this does not indicate an error and you can ignore this message): INVALID_ARGUMENT: You must feed a value for placeholder tensor 'gradients/split_grad/concat/split/split_dim' with dtype int32\n",
      "\t [[{{node gradients/split_grad/concat/split/split_dim}}]]\n",
      "2023-04-24 17:59:26.006901: I tensorflow/core/common_runtime/executor.cc:1197] [/device:CPU:0] (DEBUG INFO) Executor start aborting (this does not indicate an error and you can ignore this message): INVALID_ARGUMENT: You must feed a value for placeholder tensor 'gradients/split_1_grad/concat/split_1/split_dim' with dtype int32\n",
      "\t [[{{node gradients/split_1_grad/concat/split_1/split_dim}}]]\n"
     ]
    }
   ],
   "source": [
    "# recall best model\n",
    "model: keras.models = keras.models.load_model(\n",
    "    f\"my_checkpoint_{type_of_model}_{nb_variables_}.h5\")"
   ]
  },
  {
   "cell_type": "code",
   "execution_count": 52,
   "metadata": {
    "executionInfo": {
     "elapsed": 1129,
     "status": "ok",
     "timestamp": 1664526864371,
     "user": {
      "displayName": "Ange VALLI",
      "userId": "07174695979630093145"
     },
     "user_tz": -120
    },
    "id": "g7Su4oBrmj6K"
   },
   "outputs": [
    {
     "name": "stderr",
     "output_type": "stream",
     "text": [
      "2023-04-24 17:59:26.437036: I tensorflow/core/common_runtime/executor.cc:1197] [/device:CPU:0] (DEBUG INFO) Executor start aborting (this does not indicate an error and you can ignore this message): INVALID_ARGUMENT: You must feed a value for placeholder tensor 'gradients/split_2_grad/concat/split_2/split_dim' with dtype int32\n",
      "\t [[{{node gradients/split_2_grad/concat/split_2/split_dim}}]]\n",
      "2023-04-24 17:59:26.439031: I tensorflow/core/common_runtime/executor.cc:1197] [/device:CPU:0] (DEBUG INFO) Executor start aborting (this does not indicate an error and you can ignore this message): INVALID_ARGUMENT: You must feed a value for placeholder tensor 'gradients/split_grad/concat/split/split_dim' with dtype int32\n",
      "\t [[{{node gradients/split_grad/concat/split/split_dim}}]]\n",
      "2023-04-24 17:59:26.440691: I tensorflow/core/common_runtime/executor.cc:1197] [/device:CPU:0] (DEBUG INFO) Executor start aborting (this does not indicate an error and you can ignore this message): INVALID_ARGUMENT: You must feed a value for placeholder tensor 'gradients/split_1_grad/concat/split_1/split_dim' with dtype int32\n",
      "\t [[{{node gradients/split_1_grad/concat/split_1/split_dim}}]]\n",
      "2023-04-24 17:59:26.635358: I tensorflow/core/common_runtime/executor.cc:1197] [/device:CPU:0] (DEBUG INFO) Executor start aborting (this does not indicate an error and you can ignore this message): INVALID_ARGUMENT: You must feed a value for placeholder tensor 'gradients/split_2_grad/concat/split_2/split_dim' with dtype int32\n",
      "\t [[{{node gradients/split_2_grad/concat/split_2/split_dim}}]]\n",
      "2023-04-24 17:59:26.636982: I tensorflow/core/common_runtime/executor.cc:1197] [/device:CPU:0] (DEBUG INFO) Executor start aborting (this does not indicate an error and you can ignore this message): INVALID_ARGUMENT: You must feed a value for placeholder tensor 'gradients/split_grad/concat/split/split_dim' with dtype int32\n",
      "\t [[{{node gradients/split_grad/concat/split/split_dim}}]]\n",
      "2023-04-24 17:59:26.639709: I tensorflow/core/common_runtime/executor.cc:1197] [/device:CPU:0] (DEBUG INFO) Executor start aborting (this does not indicate an error and you can ignore this message): INVALID_ARGUMENT: You must feed a value for placeholder tensor 'gradients/split_1_grad/concat/split_1/split_dim' with dtype int32\n",
      "\t [[{{node gradients/split_1_grad/concat/split_1/split_dim}}]]\n"
     ]
    },
    {
     "name": "stdout",
     "output_type": "stream",
     "text": [
      "1/1 [==============================] - 1s 644ms/step\n"
     ]
    }
   ],
   "source": [
    "rnn_unscaled_forecast: np.array = format_rnn_forecast(\n",
    "    model_=model, normalized_x_test_=normalized_x_test,\n",
    "    x_train_scaler_=x_train_scaler, window_size_=window_size\n",
    "    )"
   ]
  },
  {
   "cell_type": "markdown",
   "metadata": {
    "id": "thsWoIWq2obh"
   },
   "source": [
    "Visualisation of the prediction"
   ]
  },
  {
   "cell_type": "code",
   "execution_count": 53,
   "metadata": {
    "colab": {
     "base_uri": "https://localhost:8080/",
     "height": 410
    },
    "executionInfo": {
     "elapsed": 12,
     "status": "ok",
     "timestamp": 1664526864372,
     "user": {
      "displayName": "Ange VALLI",
      "userId": "07174695979630093145"
     },
     "user_tz": -120
    },
    "id": "SYWYFec6mlXE",
    "outputId": "d4f5ef0b-2ada-4f3d-da8b-72c33c18f808"
   },
   "outputs": [
    {
     "data": {
      "image/png": "[encoded data removed]",
      "text/plain": [
       "<Figure size 1000x600 with 1 Axes>"
      ]
     },
     "metadata": {},
     "output_type": "display_data"
    }
   ],
   "source": [
    "# plot results\n",
    "plt.figure(figsize=(10,6))\n",
    "\n",
    "plt.ylabel('Dollars $')\n",
    "plt.xlabel('Timestep in Days')\n",
    "plt.title(f'LSTM {window_size} Forecast')\n",
    "plot_series(x_test.index, x_test, label=\"Actual\")\n",
    "plot_series(x_test.index, rnn_unscaled_forecast, label=\"Forecast\")\n",
    "plt.show()"
   ]
  },
  {
   "cell_type": "markdown",
   "metadata": {
    "id": "1fu_IGBd2vVp"
   },
   "source": [
    "Here, the result is bad as it fails both to capture the day-by-day differences in the price and the shape of the curve is too different from the shape of the test set"
   ]
  },
  {
   "cell_type": "code",
   "execution_count": 54,
   "metadata": {
    "colab": {
     "base_uri": "https://localhost:8080/",
     "height": 0
    },
    "executionInfo": {
     "elapsed": 10,
     "status": "ok",
     "timestamp": 1664526864372,
     "user": {
      "displayName": "Ange VALLI",
      "userId": "07174695979630093145"
     },
     "user_tz": -120
    },
    "id": "dTyJcSNJmqBB",
    "outputId": "0b08a46c-b540-4877-f2aa-30369b24a14c"
   },
   "outputs": [
    {
     "data": {
      "text/plain": [
       "50.902527"
      ]
     },
     "execution_count": 54,
     "metadata": {},
     "output_type": "execute_result"
    }
   ],
   "source": [
    "# Calculate MAE on price\n",
    "keras.metrics.mean_absolute_error(x_test, rnn_unscaled_forecast).numpy()"
   ]
  },
  {
   "cell_type": "code",
   "execution_count": 55,
   "metadata": {
    "colab": {
     "base_uri": "https://localhost:8080/",
     "height": 0
    },
    "executionInfo": {
     "elapsed": 9,
     "status": "ok",
     "timestamp": 1664526864373,
     "user": {
      "displayName": "Ange VALLI",
      "userId": "07174695979630093145"
     },
     "user_tz": -120
    },
    "id": "yB0M9ssLLPQP",
    "outputId": "fe1bc426-6b2e-4ee8-fc97-06260dd2a7ed"
   },
   "outputs": [
    {
     "data": {
      "text/plain": [
       "3.2318673"
      ]
     },
     "execution_count": 55,
     "metadata": {},
     "output_type": "execute_result"
    }
   ],
   "source": [
    "# Calculate MAE on return\n",
    "x_test_series: pd.Series = (pd.Series(x_test) - pd.Series(x_test).shift(1)).dropna()\n",
    "rnn_unscaled_forecast_series: pd.Series = (pd.Series(rnn_unscaled_forecast) - pd.Series(rnn_unscaled_forecast).shift(1)).dropna()\n",
    "keras.metrics.mean_absolute_error(x_test_series, rnn_unscaled_forecast_series).numpy()"
   ]
  },
  {
   "cell_type": "markdown",
   "metadata": {
    "id": "FO3KxiFE4hew"
   },
   "source": [
    "We notice that the value of the mean absolute error of the prediction of the returns with LSTM Neural Network is similar than the error of the CNN prediction of those returns. The error is higher for the price, as the prediction is too far from the test dataset, but in both cases the returns are not capture, as both predictions are not precise enough."
   ]
  },
  {
   "cell_type": "markdown",
   "metadata": {
    "id": "tOAyZsUn7PJz"
   },
   "source": [
    "To capture more precision on the predictions, we introduce feature engineering on the dataset and make predictions using other informations than the SPY closing price."
   ]
  },
  {
   "cell_type": "markdown",
   "metadata": {
    "id": "Rv9C1MqfwBya"
   },
   "source": [
    "# Learning using VIX and SPY returns"
   ]
  },
  {
   "cell_type": "markdown",
   "metadata": {
    "id": "bhw4ppwwEJnw"
   },
   "source": [
    "## Features Engineering : construction of indicators"
   ]
  },
  {
   "cell_type": "markdown",
   "metadata": {
    "id": "wzf9usTAEvB0"
   },
   "source": [
    "### Construction of Moving Average Convergence Divergence (MACD) indicator"
   ]
  },
  {
   "cell_type": "markdown",
   "metadata": {
    "id": "yFiY9ltO9bOE"
   },
   "source": [
    "This indicator is a momentum oscillator used to trade trends. It used to give trading signals, prioritizing the most current information in its weighting process thanks to exponential averages. Litterature defines those weighted averages with 26 days for the component dedicated to the market standard and 12 days as usual for the financial market. [4]"
   ]
  },
  {
   "cell_type": "code",
   "execution_count": 56,
   "metadata": {
    "executionInfo": {
     "elapsed": 8,
     "status": "ok",
     "timestamp": 1664526864374,
     "user": {
      "displayName": "Ange VALLI",
      "userId": "07174695979630093145"
     },
     "user_tz": -120
    },
    "id": "JzUMLjJtwToA"
   },
   "outputs": [],
   "source": [
    "# Computation of 12 days EMA (Exponentially moving average)\n",
    "data[c.EMA12] = data[c.SPY].ewm(span=12, adjust=False).mean()\n",
    "\n",
    "# Computation of 26 days EMA\n",
    "data[c.EMA26] = data[c.SPY].ewm(span=26, adjust=False).mean()\n",
    "\n",
    "# Computation of MACD\n",
    "data[c.MACD] = data[c.EMA12] - data[c.EMA26]"
   ]
  },
  {
   "cell_type": "markdown",
   "metadata": {
    "id": "jWBKdJPmFBxe"
   },
   "source": [
    "### Construction of Relative Strength Index (RSI) indicator"
   ]
  },
  {
   "cell_type": "markdown",
   "metadata": {
    "id": "CEGEyUZo-65Z"
   },
   "source": [
    "This indicator measures the speed and magnitude of a security's recent price changes to evaluate overvalued or undervalued conditions in the price of that security. [5] It carries useful information as feature for a machine learning approach. [6]"
   ]
  },
  {
   "cell_type": "code",
   "execution_count": 57,
   "metadata": {
    "executionInfo": {
     "elapsed": 7,
     "status": "ok",
     "timestamp": 1664526864374,
     "user": {
      "displayName": "Ange VALLI",
      "userId": "07174695979630093145"
     },
     "user_tz": -120
    },
    "id": "N99BcyltJqkq"
   },
   "outputs": [],
   "source": [
    "mask_up_days: pd.Series = data[c.SPY] > data[c.SPY].shift(1)\n",
    "mask_down_days: pd.Series = data[c.SPY] < data[c.SPY].shift(1)\n",
    "\n",
    "# Computation of up and down days\n",
    "data[c.UP_DAYS] = 0\n",
    "data[c.DOWN_DAYS] = 0\n",
    "data.loc[mask_up_days, c.UP_DAYS] = data[c.SPY] - data[c.SPY].shift(1)\n",
    "data.loc[mask_down_days, c.DOWN_DAYS] = data[c.SPY].shift(1) - data[c.SPY]\n",
    "\n",
    "# Computation of corresponding exponentialy-weighted average\n",
    "data[c.EMA14_UP] = data[c.UP_DAYS].ewm(span=14, adjust=False).mean()\n",
    "data[c.EMA14_DOWN] = data[c.DOWN_DAYS].ewm(span=14, adjust=False).mean()\n",
    "\n",
    "# Computation of final indicator\n",
    "data[c.RSI] = 100 * data[c.EMA14_UP]/(data[c.EMA14_UP]+data[c.EMA14_DOWN])"
   ]
  },
  {
   "cell_type": "markdown",
   "metadata": {
    "id": "2ndpbzyrmb9g"
   },
   "source": [
    "## Datasets"
   ]
  },
  {
   "cell_type": "markdown",
   "metadata": {
    "id": "wZ84pO4jBApn"
   },
   "source": [
    "We add shifted values of indicators and index, as done in [2], to emphasize on the prediction of the return and the day-to-day differences for 1 and 2 days."
   ]
  },
  {
   "cell_type": "code",
   "execution_count": 58,
   "metadata": {
    "executionInfo": {
     "elapsed": 8,
     "status": "ok",
     "timestamp": 1664526864375,
     "user": {
      "displayName": "Ange VALLI",
      "userId": "07174695979630093145"
     },
     "user_tz": -120
    },
    "id": "nAL6zhsimdv5"
   },
   "outputs": [],
   "source": [
    "# Keep only variables for learning\n",
    "X: pd.DataFrame = data[[c.DATE, c.SPY, c.VIX, c.RETURNS, c.MACD, c.RSI]]\n",
    "\n",
    "# Create new variables based on values of previous days for VIX, MACD and RSI\n",
    "X[c.VIX_1] = X[c.VIX].shift(1)\n",
    "X[c.VIX_2] = X[c.VIX].shift(2)\n",
    "X[c.MACD_1] = X[c.MACD].shift(1)\n",
    "X[c.MACD_2] = X[c.MACD].shift(2)\n",
    "X[c.RSI_1] = X[c.RSI].shift(1)\n",
    "X[c.RSI_2] = X[c.RSI].shift(2)\n",
    "\n",
    "# Clean NaN due to shifting by eliminating first values\n",
    "mask_clean_dates: pd.Series = X[c.DATE] >= dt.date(2007, 1, 9)\n",
    "X = X[mask_clean_dates].reset_index(drop=True)"
   ]
  },
  {
   "cell_type": "code",
   "execution_count": 59,
   "metadata": {
    "executionInfo": {
     "elapsed": 8,
     "status": "ok",
     "timestamp": 1664526864375,
     "user": {
      "displayName": "Ange VALLI",
      "userId": "07174695979630093145"
     },
     "user_tz": -120
    },
    "id": "e8QL2u_epoIc"
   },
   "outputs": [],
   "source": [
    "# Create train, test and valid dataset\n",
    "x_train: pd.DataFrame\n",
    "x_test: pd.DataFrame\n",
    "x_valid: pd.DataFrame\n",
    "x_train, x_test, x_valid = create_train_test_valid_split(data=X)"
   ]
  },
  {
   "cell_type": "markdown",
   "metadata": {
    "id": "vWckUctXc79M"
   },
   "source": [
    "### Normalisation"
   ]
  },
  {
   "cell_type": "markdown",
   "metadata": {
    "id": "i0lT-o-HA-bb"
   },
   "source": [
    "Here, this technique is useful as we introduce features of different natures, especially with different scales of values from a feature to an other. For example, the price and the return are not on the same scale, and higher numeric values introduce bias in the learning. This can be explained by the higher values being responsible for the weights of the neurons and making the impact of little values being negligible."
   ]
  },
  {
   "cell_type": "code",
   "execution_count": 60,
   "metadata": {
    "executionInfo": {
     "elapsed": 8,
     "status": "ok",
     "timestamp": 1664526864375,
     "user": {
      "displayName": "Ange VALLI",
      "userId": "07174695979630093145"
     },
     "user_tz": -120
    },
    "id": "kIZPdFNsufAE"
   },
   "outputs": [],
   "source": [
    "x_train_scaler: MinMaxScaler\n",
    "normalized_x_train: np.array\n",
    "normalized_x_valid: np.array\n",
    "normalized_x_test: np.array\n",
    "spy_normalized_to_traindata: np.array\n",
    "(\n",
    "    x_train_scaler, normalized_x_train, normalized_x_valid, normalized_x_test,\n",
    "    spy_normalized_to_traindata\n",
    " ) = normalization(x_train_values_=x_train.values,\n",
    "                   x_test_values_=x_test.values,\n",
    "                   x_valid_values_=x_valid.values,\n",
    "                   origin_=X.drop(columns=c.DATE).values)"
   ]
  },
  {
   "cell_type": "markdown",
   "metadata": {
    "id": "_ygBrSx6eYL1"
   },
   "source": [
    "## CNN Model"
   ]
  },
  {
   "cell_type": "markdown",
   "metadata": {
    "id": "dmkmAbBRCFl-"
   },
   "source": [
    "We conserve the same architecture to be able to compare with the first approach."
   ]
  },
  {
   "cell_type": "code",
   "execution_count": 61,
   "metadata": {
    "colab": {
     "base_uri": "https://localhost:8080/",
     "height": 0
    },
    "executionInfo": {
     "elapsed": 41138,
     "status": "ok",
     "timestamp": 1664526905505,
     "user": {
      "displayName": "Ange VALLI",
      "userId": "07174695979630093145"
     },
     "user_tz": -120
    },
    "id": "SyAfBf9WftHd",
    "outputId": "08bcb9b9-5f96-4a25-a973-ded25e92a27d"
   },
   "outputs": [
    {
     "name": "stdout",
     "output_type": "stream",
     "text": [
      "Epoch 1/100\n"
     ]
    },
    {
     "name": "stderr",
     "output_type": "stream",
     "text": [
      "2023-04-24 17:59:28.054811: I tensorflow/core/common_runtime/executor.cc:1197] [/device:CPU:0] (DEBUG INFO) Executor start aborting (this does not indicate an error and you can ignore this message): INVALID_ARGUMENT: You must feed a value for placeholder tensor 'Placeholder/_0' with dtype double and shape [2010,11,1]\n",
      "\t [[{{node Placeholder/_0}}]]\n",
      "2023-04-24 17:59:28.055117: I tensorflow/core/common_runtime/executor.cc:1197] [/device:CPU:0] (DEBUG INFO) Executor start aborting (this does not indicate an error and you can ignore this message): INVALID_ARGUMENT: You must feed a value for placeholder tensor 'Placeholder/_0' with dtype double and shape [2010,11,1]\n",
      "\t [[{{node Placeholder/_0}}]]\n"
     ]
    },
    {
     "name": "stdout",
     "output_type": "stream",
     "text": [
      "     13/Unknown - 4s 13ms/step - loss: 0.0964 - mae: 0.3576"
     ]
    },
    {
     "name": "stderr",
     "output_type": "stream",
     "text": [
      "2023-04-24 17:59:32.602943: W tensorflow/tsl/framework/bfc_allocator.cc:296] Allocator (GPU_0_bfc) ran out of memory trying to allocate 1.07GiB with freed_by_count=0. The caller indicates that this is not a failure, but this may mean that there could be performance gains if more memory were available.\n",
      "2023-04-24 17:59:32.603520: W tensorflow/tsl/framework/bfc_allocator.cc:296] Allocator (GPU_0_bfc) ran out of memory trying to allocate 1.07GiB with freed_by_count=0. The caller indicates that this is not a failure, but this may mean that there could be performance gains if more memory were available.\n"
     ]
    },
    {
     "name": "stdout",
     "output_type": "stream",
     "text": [
      "     16/Unknown - 5s 54ms/step - loss: 0.0852 - mae: 0.3288"
     ]
    },
    {
     "name": "stderr",
     "output_type": "stream",
     "text": [
      "2023-04-24 17:59:32.958952: I tensorflow/core/common_runtime/executor.cc:1197] [/device:CPU:0] (DEBUG INFO) Executor start aborting (this does not indicate an error and you can ignore this message): INVALID_ARGUMENT: You must feed a value for placeholder tensor 'Placeholder/_0' with dtype double and shape [1006,11,1]\n",
      "\t [[{{node Placeholder/_0}}]]\n",
      "2023-04-24 17:59:32.960165: I tensorflow/core/common_runtime/executor.cc:1197] [/device:CPU:0] (DEBUG INFO) Executor start aborting (this does not indicate an error and you can ignore this message): INVALID_ARGUMENT: You must feed a value for placeholder tensor 'Placeholder/_0' with dtype double and shape [1006,11,1]\n",
      "\t [[{{node Placeholder/_0}}]]\n"
     ]
    },
    {
     "name": "stdout",
     "output_type": "stream",
     "text": [
      "16/16 [==============================] - 6s 103ms/step - loss: 0.0852 - mae: 0.3288 - val_loss: 0.0383 - val_mae: 0.2068\n",
      "Epoch 2/100\n",
      "16/16 [==============================] - 0s 22ms/step - loss: 0.0129 - mae: 0.1176 - val_loss: 0.0217 - val_mae: 0.1425\n",
      "Epoch 3/100\n",
      "16/16 [==============================] - 0s 22ms/step - loss: 0.0073 - mae: 0.0869 - val_loss: 0.0178 - val_mae: 0.1140\n",
      "Epoch 4/100\n",
      "16/16 [==============================] - 0s 22ms/step - loss: 0.0049 - mae: 0.0714 - val_loss: 0.0144 - val_mae: 0.1019\n",
      "Epoch 5/100\n",
      "16/16 [==============================] - 0s 22ms/step - loss: 0.0038 - mae: 0.0627 - val_loss: 0.0121 - val_mae: 0.0931\n",
      "Epoch 6/100\n",
      "16/16 [==============================] - 0s 22ms/step - loss: 0.0031 - mae: 0.0571 - val_loss: 0.0094 - val_mae: 0.0859\n",
      "Epoch 7/100\n",
      "16/16 [==============================] - 0s 22ms/step - loss: 0.0023 - mae: 0.0486 - val_loss: 0.0067 - val_mae: 0.0734\n",
      "Epoch 8/100\n",
      "16/16 [==============================] - 0s 22ms/step - loss: 0.0021 - mae: 0.0458 - val_loss: 0.0052 - val_mae: 0.0658\n",
      "Epoch 9/100\n",
      "16/16 [==============================] - 0s 22ms/step - loss: 0.0016 - mae: 0.0389 - val_loss: 0.0043 - val_mae: 0.0599\n",
      "Epoch 10/100\n",
      "16/16 [==============================] - 0s 23ms/step - loss: 0.0016 - mae: 0.0382 - val_loss: 0.0040 - val_mae: 0.0587\n",
      "Epoch 11/100\n",
      "16/16 [==============================] - 0s 22ms/step - loss: 0.0014 - mae: 0.0350 - val_loss: 0.0037 - val_mae: 0.0550\n",
      "Epoch 12/100\n",
      "16/16 [==============================] - 0s 26ms/step - loss: 0.0013 - mae: 0.0335 - val_loss: 0.0033 - val_mae: 0.0526\n",
      "Epoch 13/100\n",
      "16/16 [==============================] - 0s 22ms/step - loss: 0.0014 - mae: 0.0350 - val_loss: 0.0031 - val_mae: 0.0514\n",
      "Epoch 14/100\n",
      "16/16 [==============================] - 0s 24ms/step - loss: 0.0012 - mae: 0.0314 - val_loss: 0.0030 - val_mae: 0.0519\n",
      "Epoch 15/100\n",
      "16/16 [==============================] - 0s 21ms/step - loss: 0.0013 - mae: 0.0339 - val_loss: 0.0031 - val_mae: 0.0527\n",
      "Epoch 16/100\n",
      "16/16 [==============================] - 0s 21ms/step - loss: 0.0012 - mae: 0.0322 - val_loss: 0.0027 - val_mae: 0.0483\n",
      "Epoch 17/100\n",
      "16/16 [==============================] - 0s 24ms/step - loss: 0.0011 - mae: 0.0305 - val_loss: 0.0026 - val_mae: 0.0466\n",
      "Epoch 18/100\n",
      "16/16 [==============================] - 0s 19ms/step - loss: 0.0012 - mae: 0.0310 - val_loss: 0.0027 - val_mae: 0.0481\n",
      "Epoch 19/100\n",
      "16/16 [==============================] - 0s 21ms/step - loss: 0.0011 - mae: 0.0306 - val_loss: 0.0028 - val_mae: 0.0501\n",
      "Epoch 20/100\n",
      "16/16 [==============================] - 0s 19ms/step - loss: 0.0012 - mae: 0.0324 - val_loss: 0.0027 - val_mae: 0.0479\n",
      "Epoch 21/100\n",
      "16/16 [==============================] - 0s 21ms/step - loss: 0.0010 - mae: 0.0287 - val_loss: 0.0026 - val_mae: 0.0464\n",
      "Epoch 22/100\n",
      "16/16 [==============================] - 0s 23ms/step - loss: 0.0011 - mae: 0.0317 - val_loss: 0.0024 - val_mae: 0.0453\n",
      "Epoch 23/100\n",
      "16/16 [==============================] - 0s 21ms/step - loss: 9.4781e-04 - mae: 0.0264 - val_loss: 0.0024 - val_mae: 0.0452\n",
      "Epoch 24/100\n",
      "16/16 [==============================] - 0s 19ms/step - loss: 0.0010 - mae: 0.0292 - val_loss: 0.0024 - val_mae: 0.0460\n",
      "Epoch 25/100\n",
      "16/16 [==============================] - 0s 22ms/step - loss: 0.0010 - mae: 0.0291 - val_loss: 0.0023 - val_mae: 0.0436\n",
      "Epoch 26/100\n",
      "16/16 [==============================] - 0s 22ms/step - loss: 8.7574e-04 - mae: 0.0249 - val_loss: 0.0021 - val_mae: 0.0424\n",
      "Epoch 27/100\n",
      "16/16 [==============================] - 0s 20ms/step - loss: 9.7390e-04 - mae: 0.0292 - val_loss: 0.0024 - val_mae: 0.0482\n",
      "Epoch 28/100\n",
      "16/16 [==============================] - 0s 21ms/step - loss: 8.8974e-04 - mae: 0.0257 - val_loss: 0.0021 - val_mae: 0.0411\n",
      "Epoch 29/100\n",
      "16/16 [==============================] - 0s 18ms/step - loss: 8.2072e-04 - mae: 0.0232 - val_loss: 0.0022 - val_mae: 0.0424\n",
      "Epoch 30/100\n",
      "16/16 [==============================] - 0s 18ms/step - loss: 0.0010 - mae: 0.0277 - val_loss: 0.0022 - val_mae: 0.0435\n",
      "Epoch 31/100\n",
      "16/16 [==============================] - 0s 20ms/step - loss: 8.3952e-04 - mae: 0.0241 - val_loss: 0.0022 - val_mae: 0.0428\n",
      "Epoch 32/100\n",
      "16/16 [==============================] - 0s 21ms/step - loss: 8.7618e-04 - mae: 0.0252 - val_loss: 0.0024 - val_mae: 0.0461\n",
      "Epoch 33/100\n",
      "16/16 [==============================] - 0s 19ms/step - loss: 8.3058e-04 - mae: 0.0240 - val_loss: 0.0021 - val_mae: 0.0428\n",
      "Epoch 34/100\n",
      "16/16 [==============================] - 0s 24ms/step - loss: 8.5296e-04 - mae: 0.0253 - val_loss: 0.0019 - val_mae: 0.0401\n",
      "Epoch 35/100\n",
      "16/16 [==============================] - 0s 20ms/step - loss: 8.4143e-04 - mae: 0.0248 - val_loss: 0.0020 - val_mae: 0.0406\n",
      "Epoch 36/100\n",
      "16/16 [==============================] - 0s 22ms/step - loss: 8.3490e-04 - mae: 0.0237 - val_loss: 0.0022 - val_mae: 0.0426\n",
      "Epoch 37/100\n",
      "16/16 [==============================] - 0s 23ms/step - loss: 8.5722e-04 - mae: 0.0247 - val_loss: 0.0026 - val_mae: 0.0527\n",
      "Epoch 38/100\n",
      "16/16 [==============================] - 0s 22ms/step - loss: 8.8854e-04 - mae: 0.0264 - val_loss: 0.0020 - val_mae: 0.0403\n",
      "Epoch 39/100\n",
      "16/16 [==============================] - 0s 19ms/step - loss: 7.7171e-04 - mae: 0.0219 - val_loss: 0.0019 - val_mae: 0.0396\n",
      "Epoch 40/100\n",
      "16/16 [==============================] - 0s 25ms/step - loss: 8.3303e-04 - mae: 0.0246 - val_loss: 0.0019 - val_mae: 0.0390\n",
      "Epoch 41/100\n",
      "16/16 [==============================] - 0s 27ms/step - loss: 7.5705e-04 - mae: 0.0213 - val_loss: 0.0018 - val_mae: 0.0380\n",
      "Epoch 42/100\n",
      "16/16 [==============================] - 0s 19ms/step - loss: 7.5893e-04 - mae: 0.0216 - val_loss: 0.0019 - val_mae: 0.0402\n",
      "Epoch 43/100\n",
      "16/16 [==============================] - 0s 22ms/step - loss: 9.2612e-04 - mae: 0.0284 - val_loss: 0.0021 - val_mae: 0.0419\n",
      "Epoch 44/100\n",
      "16/16 [==============================] - 0s 20ms/step - loss: 8.4992e-04 - mae: 0.0247 - val_loss: 0.0026 - val_mae: 0.0500\n",
      "Epoch 45/100\n",
      "16/16 [==============================] - 0s 21ms/step - loss: 8.4070e-04 - mae: 0.0246 - val_loss: 0.0019 - val_mae: 0.0398\n",
      "Epoch 46/100\n",
      "16/16 [==============================] - 0s 21ms/step - loss: 7.4979e-04 - mae: 0.0215 - val_loss: 0.0020 - val_mae: 0.0417\n",
      "Epoch 47/100\n",
      "16/16 [==============================] - 0s 20ms/step - loss: 7.8746e-04 - mae: 0.0233 - val_loss: 0.0019 - val_mae: 0.0394\n",
      "Epoch 48/100\n",
      "16/16 [==============================] - 1s 26ms/step - loss: 7.4292e-04 - mae: 0.0214 - val_loss: 0.0018 - val_mae: 0.0382\n",
      "Epoch 49/100\n",
      "16/16 [==============================] - 0s 19ms/step - loss: 9.2377e-04 - mae: 0.0273 - val_loss: 0.0019 - val_mae: 0.0416\n",
      "Epoch 50/100\n",
      "16/16 [==============================] - 0s 21ms/step - loss: 7.8027e-04 - mae: 0.0234 - val_loss: 0.0019 - val_mae: 0.0398\n",
      "Epoch 51/100\n",
      "16/16 [==============================] - 0s 21ms/step - loss: 7.4639e-04 - mae: 0.0218 - val_loss: 0.0018 - val_mae: 0.0382\n",
      "Epoch 52/100\n",
      "16/16 [==============================] - 0s 23ms/step - loss: 7.8061e-04 - mae: 0.0238 - val_loss: 0.0020 - val_mae: 0.0417\n",
      "Epoch 53/100\n",
      "16/16 [==============================] - 0s 21ms/step - loss: 7.3828e-04 - mae: 0.0218 - val_loss: 0.0019 - val_mae: 0.0403\n",
      "Epoch 54/100\n",
      "16/16 [==============================] - 0s 21ms/step - loss: 7.3852e-04 - mae: 0.0219 - val_loss: 0.0020 - val_mae: 0.0410\n",
      "Epoch 55/100\n",
      "16/16 [==============================] - 0s 22ms/step - loss: 7.3905e-04 - mae: 0.0219 - val_loss: 0.0019 - val_mae: 0.0405\n",
      "Epoch 56/100\n",
      "16/16 [==============================] - 0s 20ms/step - loss: 8.4093e-04 - mae: 0.0253 - val_loss: 0.0020 - val_mae: 0.0422\n",
      "Epoch 57/100\n",
      "16/16 [==============================] - 0s 23ms/step - loss: 8.4251e-04 - mae: 0.0254 - val_loss: 0.0020 - val_mae: 0.0426\n",
      "Epoch 58/100\n",
      "16/16 [==============================] - 0s 21ms/step - loss: 7.4989e-04 - mae: 0.0224 - val_loss: 0.0018 - val_mae: 0.0378\n"
     ]
    }
   ],
   "source": [
    "type_of_model: str = \"cnn\"\n",
    "nb_variables: int = X.drop(columns=c.DATE).shape[1]\n",
    "model_training(type_=type_of_model, window_size_=window_size, learning_rate_=5e-4, nb_variables_=nb_variables)"
   ]
  },
  {
   "cell_type": "code",
   "execution_count": 62,
   "metadata": {
    "executionInfo": {
     "elapsed": 11,
     "status": "ok",
     "timestamp": 1664526905506,
     "user": {
      "displayName": "Ange VALLI",
      "userId": "07174695979630093145"
     },
     "user_tz": -120
    },
    "id": "2S-trSpS602R"
   },
   "outputs": [],
   "source": [
    "# reload best model checkpoint\n",
    "model: keras.models = keras.models.load_model(f\"my_checkpoint_{type_of_model}_{nb_variables}.h5\")"
   ]
  },
  {
   "cell_type": "code",
   "execution_count": 63,
   "metadata": {
    "executionInfo": {
     "elapsed": 1471,
     "status": "ok",
     "timestamp": 1664526906967,
     "user": {
      "displayName": "Ange VALLI",
      "userId": "07174695979630093145"
     },
     "user_tz": -120
    },
    "id": "Nnk1mn5Rgj3H"
   },
   "outputs": [
    {
     "name": "stderr",
     "output_type": "stream",
     "text": [
      "2023-04-24 17:59:58.087613: I tensorflow/core/common_runtime/executor.cc:1197] [/device:CPU:0] (DEBUG INFO) Executor start aborting (this does not indicate an error and you can ignore this message): INVALID_ARGUMENT: You must feed a value for placeholder tensor 'Placeholder/_0' with dtype double and shape [3897,11]\n",
      "\t [[{{node Placeholder/_0}}]]\n",
      "2023-04-24 17:59:58.087967: I tensorflow/core/common_runtime/executor.cc:1197] [/device:CPU:0] (DEBUG INFO) Executor start aborting (this does not indicate an error and you can ignore this message): INVALID_ARGUMENT: You must feed a value for placeholder tensor 'Placeholder/_0' with dtype double and shape [3897,11]\n",
      "\t [[{{node Placeholder/_0}}]]\n"
     ]
    },
    {
     "name": "stdout",
     "output_type": "stream",
     "text": [
      "121/121 [==============================] - 1s 5ms/step\n"
     ]
    }
   ],
   "source": [
    "# Retrieve output\n",
    "cnn_unscaled_forecast: np.array = format_cnn_forecast(\n",
    "    model_=model, spy_normalized_to_traindata_=spy_normalized_to_traindata,\n",
    "    x_train_scaler_=x_train_scaler, window_size_=window_size,\n",
    "    nb_variables_=nb_variables, x_test_=x_test)\n",
    "cnn_unscaled_forecast.columns = X.drop(columns=c.DATE).columns"
   ]
  },
  {
   "cell_type": "code",
   "execution_count": 64,
   "metadata": {
    "colab": {
     "base_uri": "https://localhost:8080/",
     "height": 410
    },
    "executionInfo": {
     "elapsed": 9,
     "status": "ok",
     "timestamp": 1664526906967,
     "user": {
      "displayName": "Ange VALLI",
      "userId": "07174695979630093145"
     },
     "user_tz": -120
    },
    "id": "3lEMM7xtBJ3f",
    "outputId": "bbdd3487-dbf1-4a17-932e-1194e28c7fb0"
   },
   "outputs": [
    {
     "data": {
      "image/png": "[encoded data removed]",
      "text/plain": [
       "<Figure size 1000x600 with 1 Axes>"
      ]
     },
     "metadata": {},
     "output_type": "display_data"
    }
   ],
   "source": [
    "# Plot results\n",
    "plt.figure(figsize=(10, 6))\n",
    "\n",
    "plt.ylabel('Dollars $')\n",
    "plt.xlabel('Timestep in Days')\n",
    "plt.title(f'Full CNN Model {window_size}')\n",
    "plot_series(x_test.index, x_test[c.SPY])\n",
    "plot_series(x_test.index, cnn_unscaled_forecast[c.SPY])"
   ]
  },
  {
   "cell_type": "markdown",
   "metadata": {
    "id": "-Zl7tf-dUAhb"
   },
   "source": [
    "The visualisation of the price prediction has a spread regarding the real prediction and seems to be always below the real value. If we compare with the first approach, the introduction of new features in the dataset enables the model to capture the precision on the day-by-day differences in the price."
   ]
  },
  {
   "cell_type": "code",
   "execution_count": 65,
   "metadata": {
    "colab": {
     "base_uri": "https://localhost:8080/",
     "height": 0
    },
    "executionInfo": {
     "elapsed": 8,
     "status": "ok",
     "timestamp": 1664526906968,
     "user": {
      "displayName": "Ange VALLI",
      "userId": "07174695979630093145"
     },
     "user_tz": -120
    },
    "id": "ZA_DXVx3Mmvx",
    "outputId": "12244d22-1779-4afd-ca23-cad1be6b22ef"
   },
   "outputs": [
    {
     "data": {
      "text/plain": [
       "37.08724"
      ]
     },
     "execution_count": 65,
     "metadata": {},
     "output_type": "execute_result"
    }
   ],
   "source": [
    "# Calculate MAE on price\n",
    "keras.metrics.mean_absolute_error(x_test[c.SPY], cnn_unscaled_forecast[c.SPY]).numpy()"
   ]
  },
  {
   "cell_type": "code",
   "execution_count": 66,
   "metadata": {
    "colab": {
     "base_uri": "https://localhost:8080/",
     "height": 0
    },
    "executionInfo": {
     "elapsed": 697,
     "status": "ok",
     "timestamp": 1664526907660,
     "user": {
      "displayName": "Ange VALLI",
      "userId": "07174695979630093145"
     },
     "user_tz": -120
    },
    "id": "v0CNne8aLeTb",
    "outputId": "07f16b2e-efeb-470b-f38e-c8bb6432298e"
   },
   "outputs": [
    {
     "name": "stdout",
     "output_type": "stream",
     "text": [
      "6.470027\n",
      "5.2437096\n"
     ]
    }
   ],
   "source": [
    "# Calculate MAE on Returns\n",
    "print(keras.metrics.mean_absolute_error(x_test[c.RETURNS], cnn_unscaled_forecast[c.RETURNS]).numpy())\n",
    "print(keras.metrics.mean_absolute_error(x_test.loc[x_test.index.min()+1:, c.RETURNS], (cnn_unscaled_forecast[c.SPY] - cnn_unscaled_forecast[c.SPY].shift(1)).dropna()).numpy()) # drop first value which is NaN, due to the shift"
   ]
  },
  {
   "cell_type": "markdown",
   "metadata": {
    "id": "z-xHQ9QuVK0x"
   },
   "source": [
    "Even if the prediction is less accurate for the price compared to the previous approach, the mean absolute error on the return is also worse than previously, but not as worse as the price. As the model is able to capture more precision, it compensate the bias."
   ]
  },
  {
   "cell_type": "markdown",
   "metadata": {
    "id": "qsQ_7SaOfx2-"
   },
   "source": [
    "## LSTM Model"
   ]
  },
  {
   "cell_type": "code",
   "execution_count": 67,
   "metadata": {
    "colab": {
     "base_uri": "https://localhost:8080/",
     "height": 0
    },
    "executionInfo": {
     "elapsed": 105409,
     "status": "ok",
     "timestamp": 1664527013064,
     "user": {
      "displayName": "Ange VALLI",
      "userId": "07174695979630093145"
     },
     "user_tz": -120
    },
    "id": "5xtYwMakfy_P",
    "outputId": "6e78bbfb-9109-4a6b-a608-d71ecc76f621"
   },
   "outputs": [
    {
     "name": "stderr",
     "output_type": "stream",
     "text": [
      "2023-04-24 18:00:00.132070: I tensorflow/core/common_runtime/executor.cc:1197] [/device:CPU:0] (DEBUG INFO) Executor start aborting (this does not indicate an error and you can ignore this message): INVALID_ARGUMENT: You must feed a value for placeholder tensor 'gradients/split_2_grad/concat/split_2/split_dim' with dtype int32\n",
      "\t [[{{node gradients/split_2_grad/concat/split_2/split_dim}}]]\n",
      "2023-04-24 18:00:00.134310: I tensorflow/core/common_runtime/executor.cc:1197] [/device:CPU:0] (DEBUG INFO) Executor start aborting (this does not indicate an error and you can ignore this message): INVALID_ARGUMENT: You must feed a value for placeholder tensor 'gradients/split_grad/concat/split/split_dim' with dtype int32\n",
      "\t [[{{node gradients/split_grad/concat/split/split_dim}}]]\n",
      "2023-04-24 18:00:00.135955: I tensorflow/core/common_runtime/executor.cc:1197] [/device:CPU:0] (DEBUG INFO) Executor start aborting (this does not indicate an error and you can ignore this message): INVALID_ARGUMENT: You must feed a value for placeholder tensor 'gradients/split_1_grad/concat/split_1/split_dim' with dtype int32\n",
      "\t [[{{node gradients/split_1_grad/concat/split_1/split_dim}}]]\n"
     ]
    },
    {
     "name": "stdout",
     "output_type": "stream",
     "text": [
      "Epoch 1/500\n"
     ]
    },
    {
     "name": "stderr",
     "output_type": "stream",
     "text": [
      "2023-04-24 18:00:00.337383: I tensorflow/core/common_runtime/executor.cc:1197] [/device:CPU:0] (DEBUG INFO) Executor start aborting (this does not indicate an error and you can ignore this message): INVALID_ARGUMENT: You must feed a value for placeholder tensor 'gradients/split_2_grad/concat/split_2/split_dim' with dtype int32\n",
      "\t [[{{node gradients/split_2_grad/concat/split_2/split_dim}}]]\n",
      "2023-04-24 18:00:00.339868: I tensorflow/core/common_runtime/executor.cc:1197] [/device:CPU:0] (DEBUG INFO) Executor start aborting (this does not indicate an error and you can ignore this message): INVALID_ARGUMENT: You must feed a value for placeholder tensor 'gradients/split_grad/concat/split/split_dim' with dtype int32\n",
      "\t [[{{node gradients/split_grad/concat/split/split_dim}}]]\n",
      "2023-04-24 18:00:00.341293: I tensorflow/core/common_runtime/executor.cc:1197] [/device:CPU:0] (DEBUG INFO) Executor start aborting (this does not indicate an error and you can ignore this message): INVALID_ARGUMENT: You must feed a value for placeholder tensor 'gradients/split_1_grad/concat/split_1/split_dim' with dtype int32\n",
      "\t [[{{node gradients/split_1_grad/concat/split_1/split_dim}}]]\n",
      "2023-04-24 18:00:00.416883: I tensorflow/core/common_runtime/executor.cc:1197] [/device:CPU:0] (DEBUG INFO) Executor start aborting (this does not indicate an error and you can ignore this message): INVALID_ARGUMENT: You must feed a value for placeholder tensor 'Placeholder/_0' with dtype double and shape [2010,11]\n",
      "\t [[{{node Placeholder/_0}}]]\n",
      "2023-04-24 18:00:00.417276: I tensorflow/core/common_runtime/executor.cc:1197] [/device:CPU:0] (DEBUG INFO) Executor start aborting (this does not indicate an error and you can ignore this message): INVALID_ARGUMENT: You must feed a value for placeholder tensor 'Placeholder/_0' with dtype double and shape [2010,11]\n",
      "\t [[{{node Placeholder/_0}}]]\n",
      "2023-04-24 18:00:00.662742: I tensorflow/core/common_runtime/executor.cc:1197] [/device:CPU:0] (DEBUG INFO) Executor start aborting (this does not indicate an error and you can ignore this message): INVALID_ARGUMENT: You must feed a value for placeholder tensor 'gradients/split_2_grad/concat/split_2/split_dim' with dtype int32\n",
      "\t [[{{node gradients/split_2_grad/concat/split_2/split_dim}}]]\n",
      "2023-04-24 18:00:00.664893: I tensorflow/core/common_runtime/executor.cc:1197] [/device:CPU:0] (DEBUG INFO) Executor start aborting (this does not indicate an error and you can ignore this message): INVALID_ARGUMENT: You must feed a value for placeholder tensor 'gradients/split_grad/concat/split/split_dim' with dtype int32\n",
      "\t [[{{node gradients/split_grad/concat/split/split_dim}}]]\n",
      "2023-04-24 18:00:00.667583: I tensorflow/core/common_runtime/executor.cc:1197] [/device:CPU:0] (DEBUG INFO) Executor start aborting (this does not indicate an error and you can ignore this message): INVALID_ARGUMENT: You must feed a value for placeholder tensor 'gradients/split_1_grad/concat/split_1/split_dim' with dtype int32\n",
      "\t [[{{node gradients/split_1_grad/concat/split_1/split_dim}}]]\n",
      "2023-04-24 18:00:00.877292: I tensorflow/core/common_runtime/executor.cc:1197] [/device:CPU:0] (DEBUG INFO) Executor start aborting (this does not indicate an error and you can ignore this message): INVALID_ARGUMENT: You must feed a value for placeholder tensor 'gradients/split_2_grad/concat/split_2/split_dim' with dtype int32\n",
      "\t [[{{node gradients/split_2_grad/concat/split_2/split_dim}}]]\n",
      "2023-04-24 18:00:00.879843: I tensorflow/core/common_runtime/executor.cc:1197] [/device:CPU:0] (DEBUG INFO) Executor start aborting (this does not indicate an error and you can ignore this message): INVALID_ARGUMENT: You must feed a value for placeholder tensor 'gradients/split_grad/concat/split/split_dim' with dtype int32\n",
      "\t [[{{node gradients/split_grad/concat/split/split_dim}}]]\n",
      "2023-04-24 18:00:00.882165: I tensorflow/core/common_runtime/executor.cc:1197] [/device:CPU:0] (DEBUG INFO) Executor start aborting (this does not indicate an error and you can ignore this message): INVALID_ARGUMENT: You must feed a value for placeholder tensor 'gradients/split_1_grad/concat/split_1/split_dim' with dtype int32\n",
      "\t [[{{node gradients/split_1_grad/concat/split_1/split_dim}}]]\n",
      "2023-04-24 18:00:02.389116: I tensorflow/core/common_runtime/executor.cc:1197] [/device:CPU:0] (DEBUG INFO) Executor start aborting (this does not indicate an error and you can ignore this message): INVALID_ARGUMENT: You must feed a value for placeholder tensor 'gradients/split_2_grad/concat/split_2/split_dim' with dtype int32\n",
      "\t [[{{node gradients/split_2_grad/concat/split_2/split_dim}}]]\n",
      "2023-04-24 18:00:02.391137: I tensorflow/core/common_runtime/executor.cc:1197] [/device:CPU:0] (DEBUG INFO) Executor start aborting (this does not indicate an error and you can ignore this message): INVALID_ARGUMENT: You must feed a value for placeholder tensor 'gradients/split_grad/concat/split/split_dim' with dtype int32\n",
      "\t [[{{node gradients/split_grad/concat/split/split_dim}}]]\n",
      "2023-04-24 18:00:02.393027: I tensorflow/core/common_runtime/executor.cc:1197] [/device:CPU:0] (DEBUG INFO) Executor start aborting (this does not indicate an error and you can ignore this message): INVALID_ARGUMENT: You must feed a value for placeholder tensor 'gradients/split_1_grad/concat/split_1/split_dim' with dtype int32\n",
      "\t [[{{node gradients/split_1_grad/concat/split_1/split_dim}}]]\n",
      "2023-04-24 18:00:02.608774: I tensorflow/core/common_runtime/executor.cc:1197] [/device:CPU:0] (DEBUG INFO) Executor start aborting (this does not indicate an error and you can ignore this message): INVALID_ARGUMENT: You must feed a value for placeholder tensor 'gradients/split_2_grad/concat/split_2/split_dim' with dtype int32\n",
      "\t [[{{node gradients/split_2_grad/concat/split_2/split_dim}}]]\n",
      "2023-04-24 18:00:02.611017: I tensorflow/core/common_runtime/executor.cc:1197] [/device:CPU:0] (DEBUG INFO) Executor start aborting (this does not indicate an error and you can ignore this message): INVALID_ARGUMENT: You must feed a value for placeholder tensor 'gradients/split_grad/concat/split/split_dim' with dtype int32\n",
      "\t [[{{node gradients/split_grad/concat/split/split_dim}}]]\n",
      "2023-04-24 18:00:02.613181: I tensorflow/core/common_runtime/executor.cc:1197] [/device:CPU:0] (DEBUG INFO) Executor start aborting (this does not indicate an error and you can ignore this message): INVALID_ARGUMENT: You must feed a value for placeholder tensor 'gradients/split_1_grad/concat/split_1/split_dim' with dtype int32\n",
      "\t [[{{node gradients/split_1_grad/concat/split_1/split_dim}}]]\n"
     ]
    },
    {
     "name": "stdout",
     "output_type": "stream",
     "text": [
      "     66/Unknown - 5s 10ms/step - loss: 0.0226 - mae: 0.1331"
     ]
    },
    {
     "name": "stderr",
     "output_type": "stream",
     "text": [
      "2023-04-24 18:00:05.631349: I tensorflow/core/common_runtime/executor.cc:1197] [/device:CPU:0] (DEBUG INFO) Executor start aborting (this does not indicate an error and you can ignore this message): INVALID_ARGUMENT: You must feed a value for placeholder tensor 'Placeholder/_0' with dtype double and shape [1006,11]\n",
      "\t [[{{node Placeholder/_0}}]]\n",
      "2023-04-24 18:00:05.631596: I tensorflow/core/common_runtime/executor.cc:1197] [/device:CPU:0] (DEBUG INFO) Executor start aborting (this does not indicate an error and you can ignore this message): INVALID_ARGUMENT: You must feed a value for placeholder tensor 'Placeholder/_0' with dtype double and shape [1006,11]\n",
      "\t [[{{node Placeholder/_0}}]]\n",
      "2023-04-24 18:00:05.853181: I tensorflow/core/common_runtime/executor.cc:1197] [/device:CPU:0] (DEBUG INFO) Executor start aborting (this does not indicate an error and you can ignore this message): INVALID_ARGUMENT: You must feed a value for placeholder tensor 'gradients/split_2_grad/concat/split_2/split_dim' with dtype int32\n",
      "\t [[{{node gradients/split_2_grad/concat/split_2/split_dim}}]]\n",
      "2023-04-24 18:00:05.855989: I tensorflow/core/common_runtime/executor.cc:1197] [/device:CPU:0] (DEBUG INFO) Executor start aborting (this does not indicate an error and you can ignore this message): INVALID_ARGUMENT: You must feed a value for placeholder tensor 'gradients/split_grad/concat/split/split_dim' with dtype int32\n",
      "\t [[{{node gradients/split_grad/concat/split/split_dim}}]]\n",
      "2023-04-24 18:00:05.858799: I tensorflow/core/common_runtime/executor.cc:1197] [/device:CPU:0] (DEBUG INFO) Executor start aborting (this does not indicate an error and you can ignore this message): INVALID_ARGUMENT: You must feed a value for placeholder tensor 'gradients/split_1_grad/concat/split_1/split_dim' with dtype int32\n",
      "\t [[{{node gradients/split_1_grad/concat/split_1/split_dim}}]]\n",
      "2023-04-24 18:00:06.054129: I tensorflow/core/common_runtime/executor.cc:1197] [/device:CPU:0] (DEBUG INFO) Executor start aborting (this does not indicate an error and you can ignore this message): INVALID_ARGUMENT: You must feed a value for placeholder tensor 'gradients/split_2_grad/concat/split_2/split_dim' with dtype int32\n",
      "\t [[{{node gradients/split_2_grad/concat/split_2/split_dim}}]]\n",
      "2023-04-24 18:00:06.057423: I tensorflow/core/common_runtime/executor.cc:1197] [/device:CPU:0] (DEBUG INFO) Executor start aborting (this does not indicate an error and you can ignore this message): INVALID_ARGUMENT: You must feed a value for placeholder tensor 'gradients/split_grad/concat/split/split_dim' with dtype int32\n",
      "\t [[{{node gradients/split_grad/concat/split/split_dim}}]]\n",
      "2023-04-24 18:00:06.059224: I tensorflow/core/common_runtime/executor.cc:1197] [/device:CPU:0] (DEBUG INFO) Executor start aborting (this does not indicate an error and you can ignore this message): INVALID_ARGUMENT: You must feed a value for placeholder tensor 'gradients/split_1_grad/concat/split_1/split_dim' with dtype int32\n",
      "\t [[{{node gradients/split_1_grad/concat/split_1/split_dim}}]]\n"
     ]
    },
    {
     "name": "stdout",
     "output_type": "stream",
     "text": [
      "66/66 [==============================] - 6s 25ms/step - loss: 0.0226 - mae: 0.1331 - val_loss: 0.0090 - val_mae: 0.0882\n",
      "Epoch 2/500\n",
      "66/66 [==============================] - 1s 13ms/step - loss: 0.0070 - mae: 0.0825 - val_loss: 0.0082 - val_mae: 0.0831\n",
      "Epoch 3/500\n",
      "66/66 [==============================] - 1s 12ms/step - loss: 0.0059 - mae: 0.0747 - val_loss: 0.0077 - val_mae: 0.0794\n",
      "Epoch 4/500\n",
      "66/66 [==============================] - 1s 12ms/step - loss: 0.0050 - mae: 0.0686 - val_loss: 0.0075 - val_mae: 0.0773\n",
      "Epoch 5/500\n",
      "66/66 [==============================] - 1s 12ms/step - loss: 0.0046 - mae: 0.0655 - val_loss: 0.0074 - val_mae: 0.0760\n",
      "Epoch 6/500\n",
      "66/66 [==============================] - 1s 11ms/step - loss: 0.0042 - mae: 0.0630 - val_loss: 0.0074 - val_mae: 0.0751\n",
      "Epoch 7/500\n",
      "66/66 [==============================] - 1s 12ms/step - loss: 0.0039 - mae: 0.0606 - val_loss: 0.0074 - val_mae: 0.0743\n",
      "Epoch 8/500\n",
      "66/66 [==============================] - 1s 12ms/step - loss: 0.0037 - mae: 0.0584 - val_loss: 0.0073 - val_mae: 0.0736\n",
      "Epoch 9/500\n",
      "66/66 [==============================] - 1s 12ms/step - loss: 0.0034 - mae: 0.0565 - val_loss: 0.0072 - val_mae: 0.0728\n",
      "Epoch 10/500\n",
      "66/66 [==============================] - 1s 12ms/step - loss: 0.0032 - mae: 0.0549 - val_loss: 0.0071 - val_mae: 0.0721\n",
      "Epoch 11/500\n",
      "66/66 [==============================] - 1s 13ms/step - loss: 0.0030 - mae: 0.0533 - val_loss: 0.0070 - val_mae: 0.0716\n",
      "Epoch 12/500\n",
      "66/66 [==============================] - 1s 11ms/step - loss: 0.0029 - mae: 0.0518 - val_loss: 0.0070 - val_mae: 0.0712\n",
      "Epoch 13/500\n",
      "66/66 [==============================] - 1s 11ms/step - loss: 0.0027 - mae: 0.0504 - val_loss: 0.0069 - val_mae: 0.0709\n",
      "Epoch 14/500\n",
      "66/66 [==============================] - 1s 13ms/step - loss: 0.0026 - mae: 0.0493 - val_loss: 0.0069 - val_mae: 0.0707\n",
      "Epoch 15/500\n",
      "66/66 [==============================] - 1s 12ms/step - loss: 0.0025 - mae: 0.0482 - val_loss: 0.0067 - val_mae: 0.0703\n",
      "Epoch 16/500\n",
      "66/66 [==============================] - 1s 11ms/step - loss: 0.0024 - mae: 0.0473 - val_loss: 0.0066 - val_mae: 0.0699\n",
      "Epoch 17/500\n",
      "66/66 [==============================] - 1s 12ms/step - loss: 0.0023 - mae: 0.0463 - val_loss: 0.0064 - val_mae: 0.0694\n",
      "Epoch 18/500\n",
      "66/66 [==============================] - 1s 13ms/step - loss: 0.0022 - mae: 0.0453 - val_loss: 0.0062 - val_mae: 0.0687\n",
      "Epoch 19/500\n",
      "66/66 [==============================] - 1s 12ms/step - loss: 0.0021 - mae: 0.0444 - val_loss: 0.0059 - val_mae: 0.0680\n",
      "Epoch 20/500\n",
      "66/66 [==============================] - 1s 12ms/step - loss: 0.0020 - mae: 0.0435 - val_loss: 0.0057 - val_mae: 0.0672\n",
      "Epoch 21/500\n",
      "66/66 [==============================] - 1s 11ms/step - loss: 0.0020 - mae: 0.0427 - val_loss: 0.0054 - val_mae: 0.0664\n",
      "Epoch 22/500\n",
      "66/66 [==============================] - 1s 14ms/step - loss: 0.0019 - mae: 0.0419 - val_loss: 0.0051 - val_mae: 0.0655\n",
      "Epoch 23/500\n",
      "66/66 [==============================] - 1s 12ms/step - loss: 0.0018 - mae: 0.0412 - val_loss: 0.0048 - val_mae: 0.0646\n",
      "Epoch 24/500\n",
      "66/66 [==============================] - 1s 12ms/step - loss: 0.0018 - mae: 0.0406 - val_loss: 0.0046 - val_mae: 0.0636\n",
      "Epoch 25/500\n",
      "66/66 [==============================] - 1s 12ms/step - loss: 0.0017 - mae: 0.0401 - val_loss: 0.0043 - val_mae: 0.0624\n",
      "Epoch 26/500\n",
      "66/66 [==============================] - 1s 12ms/step - loss: 0.0017 - mae: 0.0396 - val_loss: 0.0041 - val_mae: 0.0612\n",
      "Epoch 27/500\n",
      "66/66 [==============================] - 1s 13ms/step - loss: 0.0016 - mae: 0.0391 - val_loss: 0.0039 - val_mae: 0.0600\n",
      "Epoch 28/500\n",
      "66/66 [==============================] - 1s 11ms/step - loss: 0.0016 - mae: 0.0387 - val_loss: 0.0037 - val_mae: 0.0586\n",
      "Epoch 29/500\n",
      "66/66 [==============================] - 1s 13ms/step - loss: 0.0015 - mae: 0.0383 - val_loss: 0.0035 - val_mae: 0.0573\n",
      "Epoch 30/500\n",
      "66/66 [==============================] - 1s 13ms/step - loss: 0.0015 - mae: 0.0378 - val_loss: 0.0033 - val_mae: 0.0559\n",
      "Epoch 31/500\n",
      "66/66 [==============================] - 1s 12ms/step - loss: 0.0015 - mae: 0.0372 - val_loss: 0.0032 - val_mae: 0.0545\n",
      "Epoch 32/500\n",
      "66/66 [==============================] - 1s 13ms/step - loss: 0.0014 - mae: 0.0365 - val_loss: 0.0030 - val_mae: 0.0533\n",
      "Epoch 33/500\n",
      "66/66 [==============================] - 1s 13ms/step - loss: 0.0014 - mae: 0.0357 - val_loss: 0.0029 - val_mae: 0.0524\n",
      "Epoch 34/500\n",
      "66/66 [==============================] - 1s 14ms/step - loss: 0.0013 - mae: 0.0350 - val_loss: 0.0029 - val_mae: 0.0518\n",
      "Epoch 35/500\n",
      "66/66 [==============================] - 1s 12ms/step - loss: 0.0013 - mae: 0.0345 - val_loss: 0.0029 - val_mae: 0.0516\n",
      "Epoch 36/500\n",
      "66/66 [==============================] - 1s 14ms/step - loss: 0.0013 - mae: 0.0341 - val_loss: 0.0030 - val_mae: 0.0519\n",
      "Epoch 37/500\n",
      "66/66 [==============================] - 1s 13ms/step - loss: 0.0013 - mae: 0.0341 - val_loss: 0.0031 - val_mae: 0.0527\n",
      "Epoch 38/500\n",
      "66/66 [==============================] - 1s 14ms/step - loss: 0.0013 - mae: 0.0346 - val_loss: 0.0032 - val_mae: 0.0542\n",
      "Epoch 39/500\n",
      "66/66 [==============================] - 1s 14ms/step - loss: 0.0014 - mae: 0.0357 - val_loss: 0.0034 - val_mae: 0.0556\n",
      "Epoch 40/500\n",
      "66/66 [==============================] - 1s 13ms/step - loss: 0.0015 - mae: 0.0378 - val_loss: 0.0037 - val_mae: 0.0574\n",
      "Epoch 41/500\n",
      "66/66 [==============================] - 1s 12ms/step - loss: 0.0015 - mae: 0.0383 - val_loss: 0.0033 - val_mae: 0.0543\n",
      "Epoch 42/500\n",
      "66/66 [==============================] - 1s 12ms/step - loss: 0.0015 - mae: 0.0376 - val_loss: 0.0031 - val_mae: 0.0524\n",
      "Epoch 43/500\n",
      "66/66 [==============================] - 1s 12ms/step - loss: 0.0015 - mae: 0.0374 - val_loss: 0.0038 - val_mae: 0.0568\n",
      "Epoch 44/500\n",
      "66/66 [==============================] - 1s 13ms/step - loss: 0.0014 - mae: 0.0364 - val_loss: 0.0027 - val_mae: 0.0477\n",
      "Epoch 45/500\n",
      "66/66 [==============================] - 1s 12ms/step - loss: 0.0014 - mae: 0.0355 - val_loss: 0.0031 - val_mae: 0.0536\n",
      "Epoch 46/500\n",
      "66/66 [==============================] - 1s 12ms/step - loss: 0.0013 - mae: 0.0346 - val_loss: 0.0027 - val_mae: 0.0503\n",
      "Epoch 47/500\n",
      "66/66 [==============================] - 1s 12ms/step - loss: 0.0013 - mae: 0.0339 - val_loss: 0.0028 - val_mae: 0.0534\n",
      "Epoch 48/500\n",
      "66/66 [==============================] - 1s 13ms/step - loss: 0.0013 - mae: 0.0335 - val_loss: 0.0026 - val_mae: 0.0520\n",
      "Epoch 49/500\n",
      "66/66 [==============================] - 1s 14ms/step - loss: 0.0013 - mae: 0.0332 - val_loss: 0.0027 - val_mae: 0.0532\n",
      "Epoch 50/500\n",
      "66/66 [==============================] - 1s 12ms/step - loss: 0.0013 - mae: 0.0337 - val_loss: 0.0028 - val_mae: 0.0539\n",
      "Epoch 51/500\n",
      "66/66 [==============================] - 1s 12ms/step - loss: 0.0013 - mae: 0.0331 - val_loss: 0.0030 - val_mae: 0.0556\n",
      "Epoch 52/500\n",
      "66/66 [==============================] - 1s 12ms/step - loss: 0.0013 - mae: 0.0344 - val_loss: 0.0026 - val_mae: 0.0507\n",
      "Epoch 53/500\n",
      "66/66 [==============================] - 1s 12ms/step - loss: 0.0013 - mae: 0.0343 - val_loss: 0.0041 - val_mae: 0.0652\n",
      "Epoch 54/500\n",
      "66/66 [==============================] - 1s 12ms/step - loss: 0.0013 - mae: 0.0340 - val_loss: 0.0031 - val_mae: 0.0557\n",
      "Epoch 55/500\n",
      "66/66 [==============================] - 1s 11ms/step - loss: 0.0013 - mae: 0.0338 - val_loss: 0.0027 - val_mae: 0.0500\n",
      "Epoch 56/500\n",
      "66/66 [==============================] - 1s 13ms/step - loss: 0.0013 - mae: 0.0345 - val_loss: 0.0024 - val_mae: 0.0462\n",
      "Epoch 57/500\n",
      "66/66 [==============================] - 1s 11ms/step - loss: 0.0013 - mae: 0.0334 - val_loss: 0.0027 - val_mae: 0.0497\n",
      "Epoch 58/500\n",
      "66/66 [==============================] - 1s 12ms/step - loss: 0.0012 - mae: 0.0329 - val_loss: 0.0022 - val_mae: 0.0447\n",
      "Epoch 59/500\n",
      "66/66 [==============================] - 1s 12ms/step - loss: 0.0012 - mae: 0.0314 - val_loss: 0.0025 - val_mae: 0.0494\n",
      "Epoch 60/500\n",
      "66/66 [==============================] - 1s 12ms/step - loss: 0.0012 - mae: 0.0322 - val_loss: 0.0026 - val_mae: 0.0488\n",
      "Epoch 61/500\n",
      "66/66 [==============================] - 1s 14ms/step - loss: 0.0013 - mae: 0.0337 - val_loss: 0.0022 - val_mae: 0.0439\n",
      "Epoch 62/500\n",
      "66/66 [==============================] - 1s 12ms/step - loss: 0.0012 - mae: 0.0321 - val_loss: 0.0021 - val_mae: 0.0419\n",
      "Epoch 63/500\n",
      "66/66 [==============================] - 1s 12ms/step - loss: 0.0013 - mae: 0.0343 - val_loss: 0.0022 - val_mae: 0.0442\n",
      "Epoch 64/500\n",
      "66/66 [==============================] - 1s 12ms/step - loss: 0.0012 - mae: 0.0326 - val_loss: 0.0021 - val_mae: 0.0437\n",
      "Epoch 65/500\n",
      "66/66 [==============================] - 1s 12ms/step - loss: 0.0011 - mae: 0.0295 - val_loss: 0.0021 - val_mae: 0.0424\n",
      "Epoch 66/500\n",
      "66/66 [==============================] - 1s 12ms/step - loss: 0.0011 - mae: 0.0299 - val_loss: 0.0021 - val_mae: 0.0418\n",
      "Epoch 67/500\n",
      "66/66 [==============================] - 1s 11ms/step - loss: 0.0011 - mae: 0.0305 - val_loss: 0.0021 - val_mae: 0.0421\n",
      "Epoch 68/500\n",
      "66/66 [==============================] - 1s 12ms/step - loss: 0.0011 - mae: 0.0293 - val_loss: 0.0021 - val_mae: 0.0421\n",
      "Epoch 69/500\n",
      "66/66 [==============================] - 1s 11ms/step - loss: 0.0011 - mae: 0.0296 - val_loss: 0.0021 - val_mae: 0.0422\n",
      "Epoch 70/500\n",
      "66/66 [==============================] - 1s 12ms/step - loss: 0.0011 - mae: 0.0294 - val_loss: 0.0021 - val_mae: 0.0433\n",
      "Epoch 71/500\n",
      "66/66 [==============================] - 1s 12ms/step - loss: 0.0011 - mae: 0.0297 - val_loss: 0.0022 - val_mae: 0.0451\n",
      "Epoch 72/500\n",
      "66/66 [==============================] - 1s 12ms/step - loss: 0.0011 - mae: 0.0300 - val_loss: 0.0023 - val_mae: 0.0461\n",
      "Epoch 73/500\n",
      "66/66 [==============================] - 1s 13ms/step - loss: 0.0012 - mae: 0.0316 - val_loss: 0.0029 - val_mae: 0.0525\n",
      "Epoch 74/500\n",
      "66/66 [==============================] - 1s 11ms/step - loss: 0.0012 - mae: 0.0327 - val_loss: 0.0029 - val_mae: 0.0519\n",
      "Epoch 75/500\n",
      "66/66 [==============================] - 1s 13ms/step - loss: 0.0013 - mae: 0.0324 - val_loss: 0.0030 - val_mae: 0.0526\n",
      "Epoch 76/500\n",
      "66/66 [==============================] - 1s 13ms/step - loss: 0.0014 - mae: 0.0352 - val_loss: 0.0041 - val_mae: 0.0609\n",
      "Epoch 77/500\n",
      "66/66 [==============================] - 1s 11ms/step - loss: 0.0016 - mae: 0.0364 - val_loss: 0.0040 - val_mae: 0.0577\n",
      "Epoch 78/500\n",
      "66/66 [==============================] - 1s 12ms/step - loss: 0.0013 - mae: 0.0331 - val_loss: 0.0037 - val_mae: 0.0576\n",
      "Epoch 79/500\n",
      "66/66 [==============================] - 1s 12ms/step - loss: 0.0016 - mae: 0.0378 - val_loss: 0.0054 - val_mae: 0.0735\n",
      "Epoch 80/500\n",
      "66/66 [==============================] - 1s 12ms/step - loss: 0.0017 - mae: 0.0381 - val_loss: 0.0039 - val_mae: 0.0624\n",
      "Epoch 81/500\n",
      "66/66 [==============================] - 1s 11ms/step - loss: 0.0015 - mae: 0.0382 - val_loss: 0.0036 - val_mae: 0.0593\n",
      "Epoch 82/500\n",
      "66/66 [==============================] - 1s 12ms/step - loss: 0.0018 - mae: 0.0404 - val_loss: 0.0026 - val_mae: 0.0485\n",
      "Epoch 83/500\n",
      "66/66 [==============================] - 1s 11ms/step - loss: 0.0017 - mae: 0.0411 - val_loss: 0.0023 - val_mae: 0.0451\n",
      "Epoch 84/500\n",
      "66/66 [==============================] - 1s 12ms/step - loss: 0.0016 - mae: 0.0392 - val_loss: 0.0022 - val_mae: 0.0442\n",
      "Epoch 85/500\n",
      "66/66 [==============================] - 1s 13ms/step - loss: 0.0016 - mae: 0.0394 - val_loss: 0.0026 - val_mae: 0.0486\n",
      "Epoch 86/500\n",
      "66/66 [==============================] - 1s 11ms/step - loss: 0.0014 - mae: 0.0367 - val_loss: 0.0024 - val_mae: 0.0463\n",
      "Epoch 87/500\n",
      "66/66 [==============================] - 1s 11ms/step - loss: 0.0014 - mae: 0.0366 - val_loss: 0.0028 - val_mae: 0.0506\n",
      "Epoch 88/500\n",
      "66/66 [==============================] - 1s 12ms/step - loss: 0.0015 - mae: 0.0375 - val_loss: 0.0021 - val_mae: 0.0433\n",
      "Epoch 89/500\n",
      "66/66 [==============================] - 1s 11ms/step - loss: 0.0013 - mae: 0.0355 - val_loss: 0.0023 - val_mae: 0.0460\n",
      "Epoch 90/500\n",
      "66/66 [==============================] - 1s 13ms/step - loss: 0.0014 - mae: 0.0365 - val_loss: 0.0020 - val_mae: 0.0421\n",
      "Epoch 91/500\n",
      "66/66 [==============================] - 1s 11ms/step - loss: 0.0013 - mae: 0.0356 - val_loss: 0.0025 - val_mae: 0.0475\n",
      "Epoch 92/500\n",
      "66/66 [==============================] - 1s 12ms/step - loss: 0.0013 - mae: 0.0345 - val_loss: 0.0023 - val_mae: 0.0448\n",
      "Epoch 93/500\n",
      "66/66 [==============================] - 1s 11ms/step - loss: 0.0012 - mae: 0.0328 - val_loss: 0.0022 - val_mae: 0.0453\n",
      "Epoch 94/500\n",
      "66/66 [==============================] - 1s 13ms/step - loss: 0.0012 - mae: 0.0332 - val_loss: 0.0019 - val_mae: 0.0409\n",
      "Epoch 95/500\n",
      "66/66 [==============================] - 1s 13ms/step - loss: 0.0012 - mae: 0.0327 - val_loss: 0.0019 - val_mae: 0.0408\n",
      "Epoch 96/500\n",
      "66/66 [==============================] - 1s 14ms/step - loss: 0.0011 - mae: 0.0318 - val_loss: 0.0019 - val_mae: 0.0401\n",
      "Epoch 97/500\n",
      "66/66 [==============================] - 1s 11ms/step - loss: 0.0011 - mae: 0.0304 - val_loss: 0.0014 - val_mae: 0.0341\n",
      "Epoch 98/500\n",
      "66/66 [==============================] - 1s 11ms/step - loss: 0.0011 - mae: 0.0305 - val_loss: 0.0015 - val_mae: 0.0356\n",
      "Epoch 99/500\n",
      "66/66 [==============================] - 1s 11ms/step - loss: 0.0010 - mae: 0.0289 - val_loss: 0.0017 - val_mae: 0.0380\n",
      "Epoch 100/500\n",
      "66/66 [==============================] - 1s 12ms/step - loss: 9.8851e-04 - mae: 0.0280 - val_loss: 0.0017 - val_mae: 0.0371\n",
      "Epoch 101/500\n",
      "66/66 [==============================] - 1s 11ms/step - loss: 9.9031e-04 - mae: 0.0283 - val_loss: 0.0016 - val_mae: 0.0361\n",
      "Epoch 102/500\n",
      "66/66 [==============================] - 1s 11ms/step - loss: 0.0010 - mae: 0.0285 - val_loss: 0.0018 - val_mae: 0.0373\n",
      "Epoch 103/500\n",
      "66/66 [==============================] - 1s 13ms/step - loss: 0.0010 - mae: 0.0286 - val_loss: 0.0016 - val_mae: 0.0360\n",
      "Epoch 104/500\n",
      "66/66 [==============================] - 1s 12ms/step - loss: 9.9342e-04 - mae: 0.0282 - val_loss: 0.0016 - val_mae: 0.0362\n",
      "Epoch 105/500\n",
      "66/66 [==============================] - 1s 11ms/step - loss: 9.9186e-04 - mae: 0.0282 - val_loss: 0.0015 - val_mae: 0.0339\n",
      "Epoch 106/500\n",
      "66/66 [==============================] - 1s 12ms/step - loss: 9.9489e-04 - mae: 0.0284 - val_loss: 0.0014 - val_mae: 0.0332\n",
      "Epoch 107/500\n",
      "66/66 [==============================] - 1s 12ms/step - loss: 9.6417e-04 - mae: 0.0275 - val_loss: 0.0015 - val_mae: 0.0337\n",
      "Epoch 108/500\n",
      "66/66 [==============================] - 1s 12ms/step - loss: 9.4447e-04 - mae: 0.0270 - val_loss: 0.0015 - val_mae: 0.0335\n",
      "Epoch 109/500\n",
      "66/66 [==============================] - 1s 12ms/step - loss: 0.0010 - mae: 0.0289 - val_loss: 0.0013 - val_mae: 0.0312\n",
      "Epoch 110/500\n",
      "66/66 [==============================] - 1s 12ms/step - loss: 9.7904e-04 - mae: 0.0276 - val_loss: 0.0015 - val_mae: 0.0332\n",
      "Epoch 111/500\n",
      "66/66 [==============================] - 1s 11ms/step - loss: 9.3982e-04 - mae: 0.0270 - val_loss: 0.0015 - val_mae: 0.0327\n",
      "Epoch 112/500\n",
      "66/66 [==============================] - 1s 11ms/step - loss: 9.7818e-04 - mae: 0.0276 - val_loss: 0.0015 - val_mae: 0.0331\n",
      "Epoch 113/500\n",
      "66/66 [==============================] - 1s 13ms/step - loss: 9.5625e-04 - mae: 0.0274 - val_loss: 0.0016 - val_mae: 0.0338\n",
      "Epoch 114/500\n",
      "66/66 [==============================] - 1s 15ms/step - loss: 9.7336e-04 - mae: 0.0276 - val_loss: 0.0015 - val_mae: 0.0335\n",
      "Epoch 115/500\n",
      "66/66 [==============================] - 1s 13ms/step - loss: 9.2250e-04 - mae: 0.0264 - val_loss: 0.0014 - val_mae: 0.0314\n",
      "Epoch 116/500\n",
      "66/66 [==============================] - 1s 15ms/step - loss: 0.0010 - mae: 0.0283 - val_loss: 0.0014 - val_mae: 0.0332\n",
      "Epoch 117/500\n",
      "66/66 [==============================] - 1s 16ms/step - loss: 9.5951e-04 - mae: 0.0273 - val_loss: 0.0015 - val_mae: 0.0330\n",
      "Epoch 118/500\n",
      "66/66 [==============================] - 1s 14ms/step - loss: 9.6389e-04 - mae: 0.0278 - val_loss: 0.0014 - val_mae: 0.0321\n",
      "Epoch 119/500\n",
      "66/66 [==============================] - 1s 13ms/step - loss: 9.9944e-04 - mae: 0.0284 - val_loss: 0.0015 - val_mae: 0.0337\n",
      "Epoch 120/500\n",
      "66/66 [==============================] - 1s 13ms/step - loss: 0.0012 - mae: 0.0310 - val_loss: 0.0018 - val_mae: 0.0393\n",
      "Epoch 121/500\n",
      "66/66 [==============================] - 1s 11ms/step - loss: 9.2323e-04 - mae: 0.0260 - val_loss: 0.0016 - val_mae: 0.0353\n",
      "Epoch 122/500\n",
      "66/66 [==============================] - 1s 12ms/step - loss: 8.9307e-04 - mae: 0.0254 - val_loss: 0.0015 - val_mae: 0.0332\n",
      "Epoch 123/500\n",
      "66/66 [==============================] - 1s 11ms/step - loss: 8.9823e-04 - mae: 0.0255 - val_loss: 0.0013 - val_mae: 0.0308\n",
      "Epoch 124/500\n",
      "66/66 [==============================] - 1s 12ms/step - loss: 8.8189e-04 - mae: 0.0249 - val_loss: 0.0013 - val_mae: 0.0317\n",
      "Epoch 125/500\n",
      "66/66 [==============================] - 1s 12ms/step - loss: 9.4708e-04 - mae: 0.0263 - val_loss: 0.0012 - val_mae: 0.0314\n",
      "Epoch 126/500\n",
      "66/66 [==============================] - 1s 12ms/step - loss: 9.4719e-04 - mae: 0.0266 - val_loss: 0.0014 - val_mae: 0.0328\n",
      "Epoch 127/500\n",
      "66/66 [==============================] - 1s 13ms/step - loss: 9.6858e-04 - mae: 0.0269 - val_loss: 0.0015 - val_mae: 0.0340\n",
      "Epoch 128/500\n",
      "66/66 [==============================] - 1s 12ms/step - loss: 9.5561e-04 - mae: 0.0267 - val_loss: 0.0016 - val_mae: 0.0355\n",
      "Epoch 129/500\n",
      "66/66 [==============================] - 1s 12ms/step - loss: 0.0011 - mae: 0.0293 - val_loss: 0.0017 - val_mae: 0.0361\n",
      "Epoch 130/500\n",
      "66/66 [==============================] - 1s 11ms/step - loss: 9.5156e-04 - mae: 0.0263 - val_loss: 0.0016 - val_mae: 0.0358\n",
      "Epoch 131/500\n",
      "66/66 [==============================] - 1s 12ms/step - loss: 0.0010 - mae: 0.0294 - val_loss: 0.0017 - val_mae: 0.0408\n",
      "Epoch 132/500\n",
      "66/66 [==============================] - 1s 14ms/step - loss: 0.0013 - mae: 0.0321 - val_loss: 0.0016 - val_mae: 0.0371\n",
      "Epoch 133/500\n",
      "66/66 [==============================] - 1s 13ms/step - loss: 9.3163e-04 - mae: 0.0262 - val_loss: 0.0016 - val_mae: 0.0355\n",
      "Epoch 134/500\n",
      "66/66 [==============================] - 1s 13ms/step - loss: 8.5507e-04 - mae: 0.0240 - val_loss: 0.0014 - val_mae: 0.0319\n",
      "Epoch 135/500\n",
      "66/66 [==============================] - 1s 14ms/step - loss: 8.7891e-04 - mae: 0.0246 - val_loss: 0.0014 - val_mae: 0.0305\n",
      "Epoch 136/500\n",
      "66/66 [==============================] - 1s 15ms/step - loss: 8.6788e-04 - mae: 0.0242 - val_loss: 0.0014 - val_mae: 0.0308\n",
      "Epoch 137/500\n",
      "66/66 [==============================] - 1s 13ms/step - loss: 8.6220e-04 - mae: 0.0240 - val_loss: 0.0014 - val_mae: 0.0311\n",
      "Epoch 138/500\n",
      "66/66 [==============================] - 1s 13ms/step - loss: 8.5832e-04 - mae: 0.0239 - val_loss: 0.0014 - val_mae: 0.0309\n",
      "Epoch 139/500\n",
      "66/66 [==============================] - 1s 12ms/step - loss: 8.6613e-04 - mae: 0.0242 - val_loss: 0.0014 - val_mae: 0.0311\n",
      "Epoch 140/500\n",
      "66/66 [==============================] - 1s 13ms/step - loss: 8.7150e-04 - mae: 0.0244 - val_loss: 0.0014 - val_mae: 0.0319\n",
      "Epoch 141/500\n",
      "66/66 [==============================] - 1s 13ms/step - loss: 8.5901e-04 - mae: 0.0240 - val_loss: 0.0014 - val_mae: 0.0320\n",
      "Epoch 142/500\n",
      "66/66 [==============================] - 1s 13ms/step - loss: 8.5286e-04 - mae: 0.0236 - val_loss: 0.0014 - val_mae: 0.0314\n",
      "Epoch 143/500\n",
      "66/66 [==============================] - 1s 13ms/step - loss: 8.7613e-04 - mae: 0.0244 - val_loss: 0.0015 - val_mae: 0.0342\n",
      "Epoch 144/500\n",
      "66/66 [==============================] - 1s 13ms/step - loss: 9.2101e-04 - mae: 0.0249 - val_loss: 0.0014 - val_mae: 0.0319\n",
      "Epoch 145/500\n",
      "66/66 [==============================] - 1s 12ms/step - loss: 9.4433e-04 - mae: 0.0257 - val_loss: 0.0014 - val_mae: 0.0325\n",
      "Epoch 146/500\n",
      "66/66 [==============================] - 1s 12ms/step - loss: 9.7884e-04 - mae: 0.0272 - val_loss: 0.0016 - val_mae: 0.0392\n",
      "Epoch 147/500\n",
      "66/66 [==============================] - 1s 12ms/step - loss: 0.0013 - mae: 0.0325 - val_loss: 0.0020 - val_mae: 0.0374\n",
      "Epoch 148/500\n",
      "66/66 [==============================] - 1s 11ms/step - loss: 8.9751e-04 - mae: 0.0250 - val_loss: 0.0018 - val_mae: 0.0358\n",
      "Epoch 149/500\n",
      "66/66 [==============================] - 1s 12ms/step - loss: 8.5216e-04 - mae: 0.0235 - val_loss: 0.0016 - val_mae: 0.0335\n",
      "Epoch 150/500\n",
      "66/66 [==============================] - 1s 12ms/step - loss: 8.0615e-04 - mae: 0.0219 - val_loss: 0.0015 - val_mae: 0.0325\n",
      "Epoch 151/500\n",
      "66/66 [==============================] - 1s 11ms/step - loss: 8.0973e-04 - mae: 0.0220 - val_loss: 0.0015 - val_mae: 0.0318\n",
      "Epoch 152/500\n",
      "66/66 [==============================] - 1s 12ms/step - loss: 8.2019e-04 - mae: 0.0223 - val_loss: 0.0014 - val_mae: 0.0313\n",
      "Epoch 153/500\n",
      "66/66 [==============================] - 1s 12ms/step - loss: 8.4665e-04 - mae: 0.0233 - val_loss: 0.0015 - val_mae: 0.0327\n",
      "Epoch 154/500\n",
      "66/66 [==============================] - 1s 13ms/step - loss: 8.7171e-04 - mae: 0.0241 - val_loss: 0.0018 - val_mae: 0.0388\n",
      "Epoch 155/500\n",
      "66/66 [==============================] - 1s 12ms/step - loss: 9.4814e-04 - mae: 0.0264 - val_loss: 0.0017 - val_mae: 0.0400\n",
      "Epoch 156/500\n",
      "66/66 [==============================] - 1s 12ms/step - loss: 0.0011 - mae: 0.0292 - val_loss: 0.0016 - val_mae: 0.0359\n",
      "Epoch 157/500\n",
      "66/66 [==============================] - 1s 14ms/step - loss: 0.0011 - mae: 0.0293 - val_loss: 0.0019 - val_mae: 0.0406\n",
      "Epoch 158/500\n",
      "66/66 [==============================] - 1s 12ms/step - loss: 9.7237e-04 - mae: 0.0265 - val_loss: 0.0017 - val_mae: 0.0354\n",
      "Epoch 159/500\n",
      "66/66 [==============================] - 1s 11ms/step - loss: 9.1242e-04 - mae: 0.0252 - val_loss: 0.0017 - val_mae: 0.0354\n",
      "Epoch 160/500\n",
      "66/66 [==============================] - 1s 13ms/step - loss: 9.0457e-04 - mae: 0.0246 - val_loss: 0.0017 - val_mae: 0.0352\n",
      "Epoch 161/500\n",
      "66/66 [==============================] - 1s 12ms/step - loss: 8.9372e-04 - mae: 0.0242 - val_loss: 0.0016 - val_mae: 0.0347\n",
      "Epoch 162/500\n",
      "66/66 [==============================] - 1s 11ms/step - loss: 8.8535e-04 - mae: 0.0239 - val_loss: 0.0016 - val_mae: 0.0342\n",
      "Epoch 163/500\n",
      "66/66 [==============================] - 1s 12ms/step - loss: 8.7051e-04 - mae: 0.0235 - val_loss: 0.0016 - val_mae: 0.0342\n",
      "Epoch 164/500\n",
      "66/66 [==============================] - 1s 12ms/step - loss: 8.5592e-04 - mae: 0.0232 - val_loss: 0.0016 - val_mae: 0.0345\n",
      "Epoch 165/500\n",
      "66/66 [==============================] - 1s 11ms/step - loss: 8.5127e-04 - mae: 0.0231 - val_loss: 0.0016 - val_mae: 0.0349\n",
      "Epoch 166/500\n",
      "66/66 [==============================] - 1s 12ms/step - loss: 8.5520e-04 - mae: 0.0233 - val_loss: 0.0017 - val_mae: 0.0353\n",
      "Epoch 167/500\n",
      "66/66 [==============================] - 1s 12ms/step - loss: 8.6127e-04 - mae: 0.0235 - val_loss: 0.0017 - val_mae: 0.0358\n",
      "Epoch 168/500\n",
      "66/66 [==============================] - 1s 11ms/step - loss: 8.6688e-04 - mae: 0.0238 - val_loss: 0.0017 - val_mae: 0.0363\n",
      "Epoch 169/500\n",
      "66/66 [==============================] - 1s 12ms/step - loss: 8.7379e-04 - mae: 0.0241 - val_loss: 0.0017 - val_mae: 0.0370\n",
      "Epoch 170/500\n",
      "66/66 [==============================] - 1s 11ms/step - loss: 8.8070e-04 - mae: 0.0244 - val_loss: 0.0017 - val_mae: 0.0378\n",
      "Epoch 171/500\n",
      "66/66 [==============================] - 1s 11ms/step - loss: 8.8816e-04 - mae: 0.0247 - val_loss: 0.0018 - val_mae: 0.0388\n",
      "Epoch 172/500\n",
      "66/66 [==============================] - 1s 12ms/step - loss: 8.9854e-04 - mae: 0.0251 - val_loss: 0.0018 - val_mae: 0.0403\n",
      "Epoch 173/500\n",
      "66/66 [==============================] - 1s 13ms/step - loss: 9.0738e-04 - mae: 0.0255 - val_loss: 0.0020 - val_mae: 0.0423\n",
      "Epoch 174/500\n",
      "66/66 [==============================] - 1s 11ms/step - loss: 9.1119e-04 - mae: 0.0258 - val_loss: 0.0021 - val_mae: 0.0441\n",
      "Epoch 175/500\n",
      "66/66 [==============================] - 1s 12ms/step - loss: 9.2079e-04 - mae: 0.0263 - val_loss: 0.0024 - val_mae: 0.0481\n"
     ]
    }
   ],
   "source": [
    "type_of_model: str = \"lstm\"\n",
    "nb_variables: int = X.drop(columns=c.DATE).shape[1]\n",
    "model_training(\n",
    "    type_=type_of_model, window_size_=window_size, learning_rate_=5e-4,\n",
    "    nb_variables_=nb_variables, nb_epochs_=500, patience_=50)"
   ]
  },
  {
   "cell_type": "code",
   "execution_count": 68,
   "metadata": {
    "executionInfo": {
     "elapsed": 2618,
     "status": "ok",
     "timestamp": 1664527015677,
     "user": {
      "displayName": "Ange VALLI",
      "userId": "07174695979630093145"
     },
     "user_tz": -120
    },
    "id": "7kvfswM5Tm7l"
   },
   "outputs": [
    {
     "name": "stderr",
     "output_type": "stream",
     "text": [
      "2023-04-24 18:02:34.761107: I tensorflow/core/common_runtime/executor.cc:1197] [/device:CPU:0] (DEBUG INFO) Executor start aborting (this does not indicate an error and you can ignore this message): INVALID_ARGUMENT: You must feed a value for placeholder tensor 'gradients/split_2_grad/concat/split_2/split_dim' with dtype int32\n",
      "\t [[{{node gradients/split_2_grad/concat/split_2/split_dim}}]]\n",
      "2023-04-24 18:02:34.763131: I tensorflow/core/common_runtime/executor.cc:1197] [/device:CPU:0] (DEBUG INFO) Executor start aborting (this does not indicate an error and you can ignore this message): INVALID_ARGUMENT: You must feed a value for placeholder tensor 'gradients/split_grad/concat/split/split_dim' with dtype int32\n",
      "\t [[{{node gradients/split_grad/concat/split/split_dim}}]]\n",
      "2023-04-24 18:02:34.764942: I tensorflow/core/common_runtime/executor.cc:1197] [/device:CPU:0] (DEBUG INFO) Executor start aborting (this does not indicate an error and you can ignore this message): INVALID_ARGUMENT: You must feed a value for placeholder tensor 'gradients/split_1_grad/concat/split_1/split_dim' with dtype int32\n",
      "\t [[{{node gradients/split_1_grad/concat/split_1/split_dim}}]]\n",
      "2023-04-24 18:02:35.059534: I tensorflow/core/common_runtime/executor.cc:1197] [/device:CPU:0] (DEBUG INFO) Executor start aborting (this does not indicate an error and you can ignore this message): INVALID_ARGUMENT: You must feed a value for placeholder tensor 'gradients/split_2_grad/concat/split_2/split_dim' with dtype int32\n",
      "\t [[{{node gradients/split_2_grad/concat/split_2/split_dim}}]]\n",
      "2023-04-24 18:02:35.061936: I tensorflow/core/common_runtime/executor.cc:1197] [/device:CPU:0] (DEBUG INFO) Executor start aborting (this does not indicate an error and you can ignore this message): INVALID_ARGUMENT: You must feed a value for placeholder tensor 'gradients/split_grad/concat/split/split_dim' with dtype int32\n",
      "\t [[{{node gradients/split_grad/concat/split/split_dim}}]]\n",
      "2023-04-24 18:02:35.064157: I tensorflow/core/common_runtime/executor.cc:1197] [/device:CPU:0] (DEBUG INFO) Executor start aborting (this does not indicate an error and you can ignore this message): INVALID_ARGUMENT: You must feed a value for placeholder tensor 'gradients/split_1_grad/concat/split_1/split_dim' with dtype int32\n",
      "\t [[{{node gradients/split_1_grad/concat/split_1/split_dim}}]]\n"
     ]
    }
   ],
   "source": [
    "# recall best model\n",
    "model: keras.models = keras.models.load_model(\n",
    "    f\"my_checkpoint_{type_of_model}_{nb_variables}.h5\")"
   ]
  },
  {
   "cell_type": "code",
   "execution_count": 69,
   "metadata": {
    "executionInfo": {
     "elapsed": 1644,
     "status": "ok",
     "timestamp": 1664527017319,
     "user": {
      "displayName": "Ange VALLI",
      "userId": "07174695979630093145"
     },
     "user_tz": -120
    },
    "id": "nME-kxKdVIF7"
   },
   "outputs": [
    {
     "name": "stderr",
     "output_type": "stream",
     "text": [
      "2023-04-24 18:02:35.527192: I tensorflow/core/common_runtime/executor.cc:1197] [/device:CPU:0] (DEBUG INFO) Executor start aborting (this does not indicate an error and you can ignore this message): INVALID_ARGUMENT: You must feed a value for placeholder tensor 'gradients/split_2_grad/concat/split_2/split_dim' with dtype int32\n",
      "\t [[{{node gradients/split_2_grad/concat/split_2/split_dim}}]]\n",
      "2023-04-24 18:02:35.529476: I tensorflow/core/common_runtime/executor.cc:1197] [/device:CPU:0] (DEBUG INFO) Executor start aborting (this does not indicate an error and you can ignore this message): INVALID_ARGUMENT: You must feed a value for placeholder tensor 'gradients/split_grad/concat/split/split_dim' with dtype int32\n",
      "\t [[{{node gradients/split_grad/concat/split/split_dim}}]]\n",
      "2023-04-24 18:02:35.531471: I tensorflow/core/common_runtime/executor.cc:1197] [/device:CPU:0] (DEBUG INFO) Executor start aborting (this does not indicate an error and you can ignore this message): INVALID_ARGUMENT: You must feed a value for placeholder tensor 'gradients/split_1_grad/concat/split_1/split_dim' with dtype int32\n",
      "\t [[{{node gradients/split_1_grad/concat/split_1/split_dim}}]]\n",
      "2023-04-24 18:02:35.801405: I tensorflow/core/common_runtime/executor.cc:1197] [/device:CPU:0] (DEBUG INFO) Executor start aborting (this does not indicate an error and you can ignore this message): INVALID_ARGUMENT: You must feed a value for placeholder tensor 'gradients/split_2_grad/concat/split_2/split_dim' with dtype int32\n",
      "\t [[{{node gradients/split_2_grad/concat/split_2/split_dim}}]]\n",
      "2023-04-24 18:02:35.804233: I tensorflow/core/common_runtime/executor.cc:1197] [/device:CPU:0] (DEBUG INFO) Executor start aborting (this does not indicate an error and you can ignore this message): INVALID_ARGUMENT: You must feed a value for placeholder tensor 'gradients/split_grad/concat/split/split_dim' with dtype int32\n",
      "\t [[{{node gradients/split_grad/concat/split/split_dim}}]]\n",
      "2023-04-24 18:02:35.807292: I tensorflow/core/common_runtime/executor.cc:1197] [/device:CPU:0] (DEBUG INFO) Executor start aborting (this does not indicate an error and you can ignore this message): INVALID_ARGUMENT: You must feed a value for placeholder tensor 'gradients/split_1_grad/concat/split_1/split_dim' with dtype int32\n",
      "\t [[{{node gradients/split_1_grad/concat/split_1/split_dim}}]]\n"
     ]
    },
    {
     "name": "stdout",
     "output_type": "stream",
     "text": [
      "1/1 [==============================] - 1s 716ms/step\n"
     ]
    }
   ],
   "source": [
    "# Retrieve output\n",
    "rnn_unscaled_forecast: pd.DataFrame = format_rnn_forecast(\n",
    "    model_=model, normalized_x_test_=normalized_x_test,\n",
    "    x_train_scaler_=x_train_scaler, window_size_=window_size,\n",
    "    x_test_=x_test, nb_variables_=nb_variables)\n",
    "rnn_unscaled_forecast.columns = X.drop(columns=c.DATE).columns"
   ]
  },
  {
   "cell_type": "code",
   "execution_count": 70,
   "metadata": {
    "colab": {
     "base_uri": "https://localhost:8080/",
     "height": 410
    },
    "executionInfo": {
     "elapsed": 1541,
     "status": "ok",
     "timestamp": 1664527018858,
     "user": {
      "displayName": "Ange VALLI",
      "userId": "07174695979630093145"
     },
     "user_tz": -120
    },
    "id": "tqMLoArsVdb9",
    "outputId": "112d8253-9b58-481c-9f85-187f4993734b"
   },
   "outputs": [
    {
     "data": {
      "image/png": "[encoded data removed]",
      "text/plain": [
       "<Figure size 1000x600 with 1 Axes>"
      ]
     },
     "metadata": {},
     "output_type": "display_data"
    }
   ],
   "source": [
    "# Plot results\n",
    "plt.figure(figsize=(10, 6))\n",
    "\n",
    "plt.ylabel('Dollars $')\n",
    "plt.xlabel('Timestep in Days')\n",
    "plt.title(f'Full CNN Model {window_size}')\n",
    "plot_series(x_test.index, x_test[c.SPY])\n",
    "plot_series(x_test.index, rnn_unscaled_forecast[c.SPY])"
   ]
  },
  {
   "cell_type": "markdown",
   "metadata": {
    "id": "ghS9RmvxWfgj"
   },
   "source": [
    "The shape of the prediction is similar than the prediction of price with LSTM in the first approach. The augmentation of the dataset was not able to solve the issue of the price prediction being to low compares to real values, especially when the horizon of days is too far away."
   ]
  },
  {
   "cell_type": "code",
   "execution_count": 71,
   "metadata": {
    "colab": {
     "base_uri": "https://localhost:8080/",
     "height": 0
    },
    "executionInfo": {
     "elapsed": 12,
     "status": "ok",
     "timestamp": 1664527018859,
     "user": {
      "displayName": "Ange VALLI",
      "userId": "07174695979630093145"
     },
     "user_tz": -120
    },
    "id": "Z8ppej1tjpqa",
    "outputId": "69a0537a-59af-475d-b1b1-bb0cb1f83f26"
   },
   "outputs": [
    {
     "data": {
      "text/plain": [
       "50.079678"
      ]
     },
     "execution_count": 71,
     "metadata": {},
     "output_type": "execute_result"
    }
   ],
   "source": [
    "# Calculate MAE on price\n",
    "keras.metrics.mean_absolute_error(x_test[c.SPY], rnn_unscaled_forecast[c.SPY]).numpy()"
   ]
  },
  {
   "cell_type": "code",
   "execution_count": 72,
   "metadata": {
    "colab": {
     "base_uri": "https://localhost:8080/",
     "height": 0
    },
    "executionInfo": {
     "elapsed": 8,
     "status": "ok",
     "timestamp": 1664527018859,
     "user": {
      "displayName": "Ange VALLI",
      "userId": "07174695979630093145"
     },
     "user_tz": -120
    },
    "id": "FOjp8vqvjx8q",
    "outputId": "7fd85f59-2d46-4875-a441-e42b98de6d1c"
   },
   "outputs": [
    {
     "name": "stdout",
     "output_type": "stream",
     "text": [
      "3.270152\n",
      "2.2359679\n"
     ]
    }
   ],
   "source": [
    "# Calculate MAE on Returns\n",
    "print(keras.metrics.mean_absolute_error(x_test[c.RETURNS], rnn_unscaled_forecast[c.RETURNS]).numpy())\n",
    "print(keras.metrics.mean_absolute_error(x_test.loc[x_test.index.min()+1:, c.RETURNS], (rnn_unscaled_forecast[c.SPY] - rnn_unscaled_forecast[c.SPY].shift(1)).dropna()).numpy())"
   ]
  },
  {
   "cell_type": "markdown",
   "metadata": {
    "id": "yPlX02LrWrtb"
   },
   "source": [
    "This case is at the same time the worst prediction for the price, as the mean absolute error is the highest, but it is also the best prediction for the price, as the mean absolute error on the return is the lowest. The day-by-day precision is high enough to capture the variation of the price."
   ]
  },
  {
   "cell_type": "markdown",
   "metadata": {
    "id": "0pNjb3kNLsPr"
   },
   "source": [
    "# Conclusion"
   ]
  },
  {
   "cell_type": "markdown",
   "metadata": {
    "id": "DPGJg_SMYfrd"
   },
   "source": [
    "A further investigation on this topic would be to fine-tune the models used by defining the hyper parameters more precisely for our dataset, using a grid search technique for example, and also a better definition of the architecture of the neural network. The scientific litterature does not present exact types of models responsible for the prediction of return values, but most of the models are based on classifiers to identify if the trading signals indicates either to buy or to sell. Other approaches tend to use machine learning algorithms for the calibration of financial time-series predictors, for example the calibration of geometric brownian motion, as done in this master's thesis [7]"
   ]
  }
 ],
 "metadata": {
  "accelerator": "GPU",
  "colab": {
   "authorship_tag": "ABX9TyNcyOifgG4lfUO/w9m7AdKT",
   "collapsed_sections": [],
   "provenance": []
  },
  "kernelspec": {
   "display_name": "Python 3 (ipykernel)",
   "language": "python",
   "name": "python3"
  },
  "language_info": {
   "codemirror_mode": {
    "name": "ipython",
    "version": 3
   },
   "file_extension": ".py",
   "mimetype": "text/x-python",
   "name": "python",
   "nbconvert_exporter": "python",
   "pygments_lexer": "ipython3",
   "version": "3.10.6"
  }
 },
 "nbformat": 4,
 "nbformat_minor": 1
}
